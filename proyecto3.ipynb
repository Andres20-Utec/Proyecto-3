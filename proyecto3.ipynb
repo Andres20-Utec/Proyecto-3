{
 "cells": [
  {
   "cell_type": "code",
   "execution_count": 157,
   "metadata": {},
   "outputs": [],
   "source": [
    "import pandas as pd\n",
    "import numpy as np\n",
    "from sklearn.decomposition import PCA\n",
    "from sklearn.decomposition import TruncatedSVD \n",
    "from sklearn.metrics.pairwise import euclidean_distances, manhattan_distances\n",
    "from sklearn.metrics import silhouette_score, rand_score, adjusted_mutual_info_score\n",
    "from sklearn.neighbors import KDTree\n",
    "from sklearn.preprocessing import StandardScaler\n",
    "import pacmap\n",
    "import matplotlib.pyplot as plt\n",
    "\n",
    "\n",
    "import warnings\n",
    "warnings.filterwarnings('ignore')\n",
    "cluster_colors = ['#b4d2b1', '#568f8b', '#1d4a60', '#cd7e59', '#ddb247', '#d15252', '#cc8899']\n",
    "labels = [\"kidney\", \"hippocampus\", \"cerebellum\", \"placenta\", \"colon\", \"liver\", \"endometrium\"]\n",
    "\n"
   ]
  },
  {
   "cell_type": "code",
   "execution_count": 158,
   "metadata": {},
   "outputs": [
    {
     "data": {
      "text/html": [
       "<div>\n",
       "<style scoped>\n",
       "    .dataframe tbody tr th:only-of-type {\n",
       "        vertical-align: middle;\n",
       "    }\n",
       "\n",
       "    .dataframe tbody tr th {\n",
       "        vertical-align: top;\n",
       "    }\n",
       "\n",
       "    .dataframe thead th {\n",
       "        text-align: right;\n",
       "    }\n",
       "</style>\n",
       "<table border=\"1\" class=\"dataframe\">\n",
       "  <thead>\n",
       "    <tr style=\"text-align: right;\">\n",
       "      <th></th>\n",
       "      <th>Unnamed: 0</th>\n",
       "      <th>GSM11805.CEL.gz</th>\n",
       "      <th>GSM11814.CEL.gz</th>\n",
       "      <th>GSM11823.CEL.gz</th>\n",
       "      <th>GSM11830.CEL.gz</th>\n",
       "      <th>GSM12067.CEL.gz</th>\n",
       "      <th>GSM12075.CEL.gz</th>\n",
       "      <th>GSM12079.CEL.gz</th>\n",
       "      <th>GSM12098.CEL.gz</th>\n",
       "      <th>GSM12105.CEL.gz</th>\n",
       "      <th>...</th>\n",
       "      <th>GSM323527.CEL.gz</th>\n",
       "      <th>GSM323565.CEL.gz</th>\n",
       "      <th>GSM323566.CEL.gz</th>\n",
       "      <th>GSM323567.CEL.gz</th>\n",
       "      <th>GSM246492.CEL.gz</th>\n",
       "      <th>GSM246493.CEL.gz</th>\n",
       "      <th>GSM246494.CEL.gz</th>\n",
       "      <th>GSM307639.CEL.gz</th>\n",
       "      <th>GSM307640.CEL.gz</th>\n",
       "      <th>GSM307641.CEL.gz</th>\n",
       "    </tr>\n",
       "  </thead>\n",
       "  <tbody>\n",
       "    <tr>\n",
       "      <th>0</th>\n",
       "      <td>1007_s_at</td>\n",
       "      <td>10.191267</td>\n",
       "      <td>10.509167</td>\n",
       "      <td>10.272027</td>\n",
       "      <td>10.252952</td>\n",
       "      <td>10.157605</td>\n",
       "      <td>9.966782</td>\n",
       "      <td>9.839348</td>\n",
       "      <td>9.945652</td>\n",
       "      <td>9.913031</td>\n",
       "      <td>...</td>\n",
       "      <td>11.797743</td>\n",
       "      <td>10.040886</td>\n",
       "      <td>11.285002</td>\n",
       "      <td>9.888693</td>\n",
       "      <td>9.661127</td>\n",
       "      <td>9.803686</td>\n",
       "      <td>10.509541</td>\n",
       "      <td>9.984502</td>\n",
       "      <td>9.937738</td>\n",
       "      <td>10.306781</td>\n",
       "    </tr>\n",
       "    <tr>\n",
       "      <th>1</th>\n",
       "      <td>1053_at</td>\n",
       "      <td>6.040463</td>\n",
       "      <td>6.696075</td>\n",
       "      <td>6.144663</td>\n",
       "      <td>6.575153</td>\n",
       "      <td>6.606701</td>\n",
       "      <td>6.060069</td>\n",
       "      <td>6.186596</td>\n",
       "      <td>5.927861</td>\n",
       "      <td>6.337478</td>\n",
       "      <td>...</td>\n",
       "      <td>6.157979</td>\n",
       "      <td>6.224848</td>\n",
       "      <td>6.170956</td>\n",
       "      <td>6.211522</td>\n",
       "      <td>6.270153</td>\n",
       "      <td>6.058488</td>\n",
       "      <td>6.345526</td>\n",
       "      <td>6.715984</td>\n",
       "      <td>6.836179</td>\n",
       "      <td>7.025547</td>\n",
       "    </tr>\n",
       "    <tr>\n",
       "      <th>2</th>\n",
       "      <td>117_at</td>\n",
       "      <td>7.447409</td>\n",
       "      <td>7.775354</td>\n",
       "      <td>7.696235</td>\n",
       "      <td>8.478135</td>\n",
       "      <td>8.116336</td>\n",
       "      <td>7.644452</td>\n",
       "      <td>8.009581</td>\n",
       "      <td>7.847192</td>\n",
       "      <td>7.983850</td>\n",
       "      <td>...</td>\n",
       "      <td>7.727192</td>\n",
       "      <td>7.573437</td>\n",
       "      <td>7.323547</td>\n",
       "      <td>7.228568</td>\n",
       "      <td>7.333568</td>\n",
       "      <td>7.486711</td>\n",
       "      <td>7.468406</td>\n",
       "      <td>7.120793</td>\n",
       "      <td>7.125811</td>\n",
       "      <td>7.407624</td>\n",
       "    </tr>\n",
       "    <tr>\n",
       "      <th>3</th>\n",
       "      <td>121_at</td>\n",
       "      <td>12.025042</td>\n",
       "      <td>12.007817</td>\n",
       "      <td>11.633279</td>\n",
       "      <td>11.075286</td>\n",
       "      <td>10.832528</td>\n",
       "      <td>11.705062</td>\n",
       "      <td>11.706145</td>\n",
       "      <td>11.750370</td>\n",
       "      <td>10.706184</td>\n",
       "      <td>...</td>\n",
       "      <td>10.443504</td>\n",
       "      <td>10.566722</td>\n",
       "      <td>10.250737</td>\n",
       "      <td>10.191332</td>\n",
       "      <td>9.703713</td>\n",
       "      <td>9.914632</td>\n",
       "      <td>9.909784</td>\n",
       "      <td>9.409933</td>\n",
       "      <td>9.587782</td>\n",
       "      <td>9.792904</td>\n",
       "    </tr>\n",
       "    <tr>\n",
       "      <th>4</th>\n",
       "      <td>1255_g_at</td>\n",
       "      <td>5.269269</td>\n",
       "      <td>5.180389</td>\n",
       "      <td>5.301714</td>\n",
       "      <td>5.372235</td>\n",
       "      <td>5.334905</td>\n",
       "      <td>5.253682</td>\n",
       "      <td>5.228794</td>\n",
       "      <td>5.155278</td>\n",
       "      <td>5.236442</td>\n",
       "      <td>...</td>\n",
       "      <td>5.263736</td>\n",
       "      <td>5.048867</td>\n",
       "      <td>5.062005</td>\n",
       "      <td>5.186962</td>\n",
       "      <td>5.158631</td>\n",
       "      <td>5.312712</td>\n",
       "      <td>5.341193</td>\n",
       "      <td>4.896124</td>\n",
       "      <td>5.296695</td>\n",
       "      <td>5.206251</td>\n",
       "    </tr>\n",
       "  </tbody>\n",
       "</table>\n",
       "<p>5 rows × 190 columns</p>\n",
       "</div>"
      ],
      "text/plain": [
       "  Unnamed: 0  GSM11805.CEL.gz  GSM11814.CEL.gz  GSM11823.CEL.gz  \\\n",
       "0  1007_s_at        10.191267        10.509167        10.272027   \n",
       "1    1053_at         6.040463         6.696075         6.144663   \n",
       "2     117_at         7.447409         7.775354         7.696235   \n",
       "3     121_at        12.025042        12.007817        11.633279   \n",
       "4  1255_g_at         5.269269         5.180389         5.301714   \n",
       "\n",
       "   GSM11830.CEL.gz  GSM12067.CEL.gz  GSM12075.CEL.gz  GSM12079.CEL.gz  \\\n",
       "0        10.252952        10.157605         9.966782         9.839348   \n",
       "1         6.575153         6.606701         6.060069         6.186596   \n",
       "2         8.478135         8.116336         7.644452         8.009581   \n",
       "3        11.075286        10.832528        11.705062        11.706145   \n",
       "4         5.372235         5.334905         5.253682         5.228794   \n",
       "\n",
       "   GSM12098.CEL.gz  GSM12105.CEL.gz  ...  GSM323527.CEL.gz  GSM323565.CEL.gz  \\\n",
       "0         9.945652         9.913031  ...         11.797743         10.040886   \n",
       "1         5.927861         6.337478  ...          6.157979          6.224848   \n",
       "2         7.847192         7.983850  ...          7.727192          7.573437   \n",
       "3        11.750370        10.706184  ...         10.443504         10.566722   \n",
       "4         5.155278         5.236442  ...          5.263736          5.048867   \n",
       "\n",
       "   GSM323566.CEL.gz  GSM323567.CEL.gz  GSM246492.CEL.gz  GSM246493.CEL.gz  \\\n",
       "0         11.285002          9.888693          9.661127          9.803686   \n",
       "1          6.170956          6.211522          6.270153          6.058488   \n",
       "2          7.323547          7.228568          7.333568          7.486711   \n",
       "3         10.250737         10.191332          9.703713          9.914632   \n",
       "4          5.062005          5.186962          5.158631          5.312712   \n",
       "\n",
       "   GSM246494.CEL.gz  GSM307639.CEL.gz  GSM307640.CEL.gz  GSM307641.CEL.gz  \n",
       "0         10.509541          9.984502          9.937738         10.306781  \n",
       "1          6.345526          6.715984          6.836179          7.025547  \n",
       "2          7.468406          7.120793          7.125811          7.407624  \n",
       "3          9.909784          9.409933          9.587782          9.792904  \n",
       "4          5.341193          4.896124          5.296695          5.206251  \n",
       "\n",
       "[5 rows x 190 columns]"
      ]
     },
     "execution_count": 158,
     "metadata": {},
     "output_type": "execute_result"
    }
   ],
   "source": [
    "data = pd.read_csv(\"dataset/dataset_tissue.txt\", sep=\",\")\n",
    "data.head()"
   ]
  },
  {
   "cell_type": "code",
   "execution_count": 159,
   "metadata": {},
   "outputs": [
    {
     "data": {
      "text/plain": [
       "(22215, 190)"
      ]
     },
     "execution_count": 159,
     "metadata": {},
     "output_type": "execute_result"
    }
   ],
   "source": [
    "data.shape"
   ]
  },
  {
   "cell_type": "code",
   "execution_count": 160,
   "metadata": {},
   "outputs": [
    {
     "data": {
      "text/html": [
       "<div>\n",
       "<style scoped>\n",
       "    .dataframe tbody tr th:only-of-type {\n",
       "        vertical-align: middle;\n",
       "    }\n",
       "\n",
       "    .dataframe tbody tr th {\n",
       "        vertical-align: top;\n",
       "    }\n",
       "\n",
       "    .dataframe thead th {\n",
       "        text-align: right;\n",
       "    }\n",
       "</style>\n",
       "<table border=\"1\" class=\"dataframe\">\n",
       "  <thead>\n",
       "    <tr style=\"text-align: right;\">\n",
       "      <th></th>\n",
       "      <th>Unnamed: 0</th>\n",
       "      <th>x</th>\n",
       "    </tr>\n",
       "  </thead>\n",
       "  <tbody>\n",
       "    <tr>\n",
       "      <th>0</th>\n",
       "      <td>1</td>\n",
       "      <td>kidney</td>\n",
       "    </tr>\n",
       "    <tr>\n",
       "      <th>1</th>\n",
       "      <td>2</td>\n",
       "      <td>kidney</td>\n",
       "    </tr>\n",
       "    <tr>\n",
       "      <th>2</th>\n",
       "      <td>3</td>\n",
       "      <td>kidney</td>\n",
       "    </tr>\n",
       "    <tr>\n",
       "      <th>3</th>\n",
       "      <td>4</td>\n",
       "      <td>kidney</td>\n",
       "    </tr>\n",
       "    <tr>\n",
       "      <th>4</th>\n",
       "      <td>5</td>\n",
       "      <td>kidney</td>\n",
       "    </tr>\n",
       "  </tbody>\n",
       "</table>\n",
       "</div>"
      ],
      "text/plain": [
       "   Unnamed: 0       x\n",
       "0           1  kidney\n",
       "1           2  kidney\n",
       "2           3  kidney\n",
       "3           4  kidney\n",
       "4           5  kidney"
      ]
     },
     "execution_count": 160,
     "metadata": {},
     "output_type": "execute_result"
    }
   ],
   "source": [
    "clase = pd.read_csv(\"dataset/clase.txt\")\n",
    "clase.head()"
   ]
  },
  {
   "cell_type": "code",
   "execution_count": 161,
   "metadata": {},
   "outputs": [
    {
     "name": "stdout",
     "output_type": "stream",
     "text": [
      "kidney : 39\n",
      "hippocampus : 31\n",
      "cerebellum : 38\n",
      "colon : 34\n",
      "liver : 26\n",
      "endometrium : 15\n",
      "placenta : 6\n"
     ]
    }
   ],
   "source": [
    "target = np.array(clase['x']).T\n",
    "element_count = {}\n",
    "for elem in list(target):\n",
    "    if elem not in element_count:\n",
    "        element_count[elem] = 1\n",
    "    else:\n",
    "        element_count[elem]+=1\n",
    "\n",
    "for elem, count in element_count.items():\n",
    "    print(f'{elem} : {count}')"
   ]
  },
  {
   "cell_type": "code",
   "execution_count": 162,
   "metadata": {},
   "outputs": [
    {
     "name": "stdout",
     "output_type": "stream",
     "text": [
      "Labels\n",
      "['cerebellum' 'colon' 'endometrium' 'hippocampus' 'kidney' 'liver'\n",
      " 'placenta']\n",
      "Cantidad de clusters: 7\n"
     ]
    }
   ],
   "source": [
    "print(\"Labels\")\n",
    "print(np.unique(target))\n",
    "print(f\"Cantidad de clusters: {len(np.unique(target))}\")"
   ]
  },
  {
   "cell_type": "code",
   "execution_count": 163,
   "metadata": {},
   "outputs": [
    {
     "data": {
      "text/plain": [
       "(189, 22215)"
      ]
     },
     "execution_count": 163,
     "metadata": {},
     "output_type": "execute_result"
    }
   ],
   "source": [
    "X = np.array(data.iloc[:, 1:]).T\n",
    "X.shape"
   ]
  },
  {
   "cell_type": "code",
   "execution_count": 164,
   "metadata": {},
   "outputs": [],
   "source": [
    "label_num = {\"kidney\": 0, \"hippocampus\" : 1, \"cerebellum\" : 2, \"colon\" : 3, \"liver\" : 4, \"endometrium\" : 5, \"placenta\" : 6}\n",
    "y = list(clase.iloc[:, 1])\n",
    "labels_true = [label_num[e] for e in y]"
   ]
  },
  {
   "cell_type": "markdown",
   "metadata": {},
   "source": [
    "### PCA"
   ]
  },
  {
   "cell_type": "code",
   "execution_count": 165,
   "metadata": {},
   "outputs": [
    {
     "data": {
      "text/plain": [
       "(189, 184)"
      ]
     },
     "execution_count": 165,
     "metadata": {},
     "output_type": "execute_result"
    }
   ],
   "source": [
    "pca = PCA(svd_solver=\"full\", n_components =0.99999)\n",
    "pca.fit(X)\n",
    "X_pca = pca.transform(X)\n",
    "X_pca.shape"
   ]
  },
  {
   "cell_type": "markdown",
   "metadata": {},
   "source": [
    "### SVD\n"
   ]
  },
  {
   "cell_type": "code",
   "execution_count": 166,
   "metadata": {},
   "outputs": [
    {
     "data": {
      "text/plain": [
       "(189, 184)"
      ]
     },
     "execution_count": 166,
     "metadata": {},
     "output_type": "execute_result"
    }
   ],
   "source": [
    "X_svd = TruncatedSVD(184).fit_transform(X)\n",
    "X_svd.shape"
   ]
  },
  {
   "cell_type": "markdown",
   "metadata": {},
   "source": [
    "### PACMAP"
   ]
  },
  {
   "cell_type": "code",
   "execution_count": 167,
   "metadata": {},
   "outputs": [],
   "source": [
    "embedding = pacmap.PaCMAP(random_state=42)\n",
    "X_pacmap = embedding.fit_transform(X)"
   ]
  },
  {
   "cell_type": "markdown",
   "metadata": {},
   "source": [
    "### Resultados reales reducidos por pacmap"
   ]
  },
  {
   "cell_type": "code",
   "execution_count": 168,
   "metadata": {},
   "outputs": [
    {
     "data": {
      "text/plain": [
       "'for l, c, m in zip(range(0, 7), cluster_colors[0:7], [\"*\", \"1\", \"v\", \"p\", \"h\", \"D\", \"s\"]):\\n        plt.scatter(X_pacmap[target == labels[l], 0],\\n                    X_pacmap[target == labels[l], 1],\\n                    color=c,\\n                    label=\\'cluster %s\\' % l,\\n                    alpha=0.9,\\n                    marker=m\\n                    )'"
      ]
     },
     "execution_count": 168,
     "metadata": {},
     "output_type": "execute_result"
    }
   ],
   "source": [
    "for l, c, m in zip(range(0, 7), cluster_colors[0:7], [\"*\", \"1\", \"v\", \"p\", \"h\", \"D\", \"s\"]):\n",
    "        plt.scatter(X_pacmap[target == labels[l], 0],\n",
    "                    X_pacmap[target == labels[l], 1],\n",
    "                    color=c,\n",
    "                    label='cluster %s' % l,\n",
    "                    alpha=0.9,\n",
    "                    marker=m\n",
    "                    )"
   ]
  },
  {
   "cell_type": "code",
   "execution_count": 169,
   "metadata": {},
   "outputs": [],
   "source": [
    "def printCluster(target, prediction):\n",
    "    cluster_element = {}\n",
    "    for i, element in zip(target, list(prediction)):\n",
    "        if i not in cluster_element:\n",
    "            cluster_element[i] =[element]\n",
    "        else:\n",
    "            if element not in cluster_element[i]:\n",
    "                cluster_element[i].append(element)\n",
    "    print(cluster_element)"
   ]
  },
  {
   "cell_type": "code",
   "execution_count": 170,
   "metadata": {},
   "outputs": [],
   "source": [
    "def getScores(labels_true, prediction_pca, prediction_svd, X_pca, X_svd):\n",
    "    scores = {\n",
    "        \"PCA\": np.array([silhouette_score(X_pca, prediction_pca), rand_score(labels_true, prediction_pca), adjusted_mutual_info_score(labels_true, prediction_pca)]),\n",
    "        \"SVD\": np.array([silhouette_score(X_svd, prediction_svd), rand_score(labels_true, prediction_svd), adjusted_mutual_info_score(labels_true, prediction_svd)])\n",
    "    }\n",
    "    df = pd.DataFrame.from_dict(scores, orient = \"index\", columns=[\"Silhouette\", \"Rand\", \"Adjust Mutual Information\"])\n",
    "    return df"
   ]
  },
  {
   "cell_type": "code",
   "execution_count": 171,
   "metadata": {},
   "outputs": [
    {
     "data": {
      "text/plain": [
       "'def graph(prediction_pca, prediction_svd):\\n    embedding = pacmap.PaCMAP(random_state=42)\\n    X_std_pacmap = embedding.fit_transform(X)\\n    fig, (ax1, ax2) = plt.subplots(1,2,figsize=(12,4), dpi=200)\\n\\n    for l, c, m in zip(range(0, 7), cluster_colors[0:7], [\"*\", \"1\", \"v\", \"p\", \"h\", \"D\", \"s\"]):\\n        ax1.scatter(X_std_pacmap[prediction_pca == l, 0],\\n                    X_std_pacmap[prediction_pca == l, 1],\\n                    color=c,\\n                    label=\\'cluster %s\\' % l,\\n                    alpha=0.9,\\n                    marker=m\\n                    )\\n\\n    for l, c, m in zip(range(0, 7), cluster_colors[0:7], [\"*\", \"1\", \"v\", \"p\", \"h\", \"D\", \"s\"]):\\n        ax2.scatter(X_std_pacmap[prediction_svd == l, 0],\\n                    X_std_pacmap[prediction_svd == l, 1],\\n                    color=c,\\n                    label=\\'cluster %s\\' % l,\\n                    alpha=0.9,\\n                    marker=m\\n                    )\\n\\n    ax1.set_title(\"PCA Visualization\")\\n    ax2.set_title(\"SVD Visualization\")\\n\\n    plt.tight_layout()\\n    plt.show()'"
      ]
     },
     "execution_count": 171,
     "metadata": {},
     "output_type": "execute_result"
    }
   ],
   "source": [
    "def graph(prediction_pca, prediction_svd):\n",
    "    embedding = pacmap.PaCMAP(random_state=42)\n",
    "    X_std_pacmap = embedding.fit_transform(X)\n",
    "    fig, (ax1, ax2) = plt.subplots(1,2,figsize=(12,4), dpi=200)\n",
    "\n",
    "    for l, c, m in zip(range(0, 7), cluster_colors[0:7], [\"*\", \"1\", \"v\", \"p\", \"h\", \"D\", \"s\"]):\n",
    "        ax1.scatter(X_std_pacmap[prediction_pca == l, 0],\n",
    "                    X_std_pacmap[prediction_pca == l, 1],\n",
    "                    color=c,\n",
    "                    label='cluster %s' % l,\n",
    "                    alpha=0.9,\n",
    "                    marker=m\n",
    "                    )\n",
    "\n",
    "    for l, c, m in zip(range(0, 7), cluster_colors[0:7], [\"*\", \"1\", \"v\", \"p\", \"h\", \"D\", \"s\"]):\n",
    "        ax2.scatter(X_std_pacmap[prediction_svd == l, 0],\n",
    "                    X_std_pacmap[prediction_svd == l, 1],\n",
    "                    color=c,\n",
    "                    label='cluster %s' % l,\n",
    "                    alpha=0.9,\n",
    "                    marker=m\n",
    "                    )\n",
    "\n",
    "    ax1.set_title(\"PCA Visualization\")\n",
    "    ax2.set_title(\"SVD Visualization\")\n",
    "\n",
    "    plt.tight_layout()\n",
    "    plt.show()"
   ]
  },
  {
   "cell_type": "markdown",
   "metadata": {},
   "source": [
    "# GMM"
   ]
  },
  {
   "cell_type": "markdown",
   "metadata": {},
   "source": [
    "### Librería"
   ]
  },
  {
   "cell_type": "code",
   "execution_count": 172,
   "metadata": {},
   "outputs": [
    {
     "data": {
      "text/plain": [
       "GaussianMixture(n_components=7)"
      ]
     },
     "execution_count": 172,
     "metadata": {},
     "output_type": "execute_result"
    }
   ],
   "source": [
    "from sklearn.mixture import GaussianMixture\n",
    "gm_pca = GaussianMixture(n_components=7)\n",
    "gm_pca.fit(X_pca)\n",
    "gm_svd = GaussianMixture(n_components=7)\n",
    "gm_svd.fit(X_svd)"
   ]
  },
  {
   "cell_type": "code",
   "execution_count": 173,
   "metadata": {},
   "outputs": [],
   "source": [
    "prediction_pca = gm_pca.predict(X_pca)\n",
    "prediction_svd = gm_svd.predict(X_svd)"
   ]
  },
  {
   "cell_type": "code",
   "execution_count": 174,
   "metadata": {},
   "outputs": [
    {
     "name": "stdout",
     "output_type": "stream",
     "text": [
      "PCA\n",
      "{'kidney': [3, 5], 'hippocampus': [4], 'cerebellum': [1, 5, 4], 'colon': [2], 'liver': [0, 5], 'endometrium': [6], 'placenta': [6]}\n",
      "SVD\n",
      "{'kidney': [2, 6], 'hippocampus': [3], 'cerebellum': [1, 6, 3], 'colon': [0], 'liver': [4, 6], 'endometrium': [2], 'placenta': [5]}\n"
     ]
    }
   ],
   "source": [
    "print(\"PCA\")\n",
    "printCluster(target, prediction_pca)\n",
    "print(\"SVD\")\n",
    "printCluster(target, prediction_svd)"
   ]
  },
  {
   "cell_type": "markdown",
   "metadata": {},
   "source": [
    "### Scores"
   ]
  },
  {
   "cell_type": "code",
   "execution_count": 175,
   "metadata": {},
   "outputs": [
    {
     "data": {
      "text/html": [
       "<div>\n",
       "<style scoped>\n",
       "    .dataframe tbody tr th:only-of-type {\n",
       "        vertical-align: middle;\n",
       "    }\n",
       "\n",
       "    .dataframe tbody tr th {\n",
       "        vertical-align: top;\n",
       "    }\n",
       "\n",
       "    .dataframe thead th {\n",
       "        text-align: right;\n",
       "    }\n",
       "</style>\n",
       "<table border=\"1\" class=\"dataframe\">\n",
       "  <thead>\n",
       "    <tr style=\"text-align: right;\">\n",
       "      <th></th>\n",
       "      <th>Silhouette</th>\n",
       "      <th>Rand</th>\n",
       "      <th>Adjust Mutual Information</th>\n",
       "    </tr>\n",
       "  </thead>\n",
       "  <tbody>\n",
       "    <tr>\n",
       "      <th>PCA</th>\n",
       "      <td>0.330189</td>\n",
       "      <td>0.965890</td>\n",
       "      <td>0.892238</td>\n",
       "    </tr>\n",
       "    <tr>\n",
       "      <th>SVD</th>\n",
       "      <td>0.329031</td>\n",
       "      <td>0.939716</td>\n",
       "      <td>0.859905</td>\n",
       "    </tr>\n",
       "  </tbody>\n",
       "</table>\n",
       "</div>"
      ],
      "text/plain": [
       "     Silhouette      Rand  Adjust Mutual Information\n",
       "PCA    0.330189  0.965890                   0.892238\n",
       "SVD    0.329031  0.939716                   0.859905"
      ]
     },
     "execution_count": 175,
     "metadata": {},
     "output_type": "execute_result"
    }
   ],
   "source": [
    "df = getScores(labels_true, prediction_pca, prediction_svd, X_pca, X_svd)\n",
    "df\n"
   ]
  },
  {
   "cell_type": "markdown",
   "metadata": {},
   "source": [
    "### Grafico"
   ]
  },
  {
   "cell_type": "code",
   "execution_count": 176,
   "metadata": {},
   "outputs": [],
   "source": [
    "graph(prediction_pca, prediction_svd)"
   ]
  },
  {
   "cell_type": "markdown",
   "metadata": {},
   "source": [
    "# K-Means"
   ]
  },
  {
   "cell_type": "markdown",
   "metadata": {},
   "source": [
    "### Librería"
   ]
  },
  {
   "cell_type": "code",
   "execution_count": 177,
   "metadata": {},
   "outputs": [
    {
     "data": {
      "text/plain": [
       "KMeans(n_clusters=7, random_state=0)"
      ]
     },
     "execution_count": 177,
     "metadata": {},
     "output_type": "execute_result"
    }
   ],
   "source": [
    "from sklearn.cluster import KMeans\n",
    "kmeans_pca = KMeans(n_clusters=7, random_state=0)\n",
    "kmeans_pca.fit(X_pca)\n",
    "kmeans_svd = KMeans(n_clusters=7, random_state=0)\n",
    "kmeans_svd.fit(X_svd)"
   ]
  },
  {
   "cell_type": "code",
   "execution_count": 178,
   "metadata": {},
   "outputs": [],
   "source": [
    "prediction_pca = kmeans_pca.predict(X_pca)\n",
    "prediction_svd = kmeans_svd.predict(X_svd)"
   ]
  },
  {
   "cell_type": "code",
   "execution_count": 179,
   "metadata": {},
   "outputs": [
    {
     "name": "stdout",
     "output_type": "stream",
     "text": [
      "PCA\n",
      "{'kidney': [4], 'hippocampus': [2], 'cerebellum': [6, 2], 'colon': [3], 'liver': [0], 'endometrium': [1], 'placenta': [5]}\n",
      "SVD\n",
      "{'kidney': [4], 'hippocampus': [2], 'cerebellum': [6, 2], 'colon': [3], 'liver': [0], 'endometrium': [1], 'placenta': [5]}\n"
     ]
    }
   ],
   "source": [
    "print(\"PCA\")\n",
    "printCluster(target, prediction_pca)\n",
    "print(\"SVD\")\n",
    "printCluster(target, prediction_svd)"
   ]
  },
  {
   "cell_type": "markdown",
   "metadata": {},
   "source": [
    "### Scores"
   ]
  },
  {
   "cell_type": "code",
   "execution_count": 180,
   "metadata": {},
   "outputs": [
    {
     "data": {
      "text/html": [
       "<div>\n",
       "<style scoped>\n",
       "    .dataframe tbody tr th:only-of-type {\n",
       "        vertical-align: middle;\n",
       "    }\n",
       "\n",
       "    .dataframe tbody tr th {\n",
       "        vertical-align: top;\n",
       "    }\n",
       "\n",
       "    .dataframe thead th {\n",
       "        text-align: right;\n",
       "    }\n",
       "</style>\n",
       "<table border=\"1\" class=\"dataframe\">\n",
       "  <thead>\n",
       "    <tr style=\"text-align: right;\">\n",
       "      <th></th>\n",
       "      <th>Silhouette</th>\n",
       "      <th>Rand</th>\n",
       "      <th>Adjust Mutual Information</th>\n",
       "    </tr>\n",
       "  </thead>\n",
       "  <tbody>\n",
       "    <tr>\n",
       "      <th>PCA</th>\n",
       "      <td>0.323172</td>\n",
       "      <td>0.981988</td>\n",
       "      <td>0.95526</td>\n",
       "    </tr>\n",
       "    <tr>\n",
       "      <th>SVD</th>\n",
       "      <td>0.323239</td>\n",
       "      <td>0.981988</td>\n",
       "      <td>0.95526</td>\n",
       "    </tr>\n",
       "  </tbody>\n",
       "</table>\n",
       "</div>"
      ],
      "text/plain": [
       "     Silhouette      Rand  Adjust Mutual Information\n",
       "PCA    0.323172  0.981988                    0.95526\n",
       "SVD    0.323239  0.981988                    0.95526"
      ]
     },
     "execution_count": 180,
     "metadata": {},
     "output_type": "execute_result"
    }
   ],
   "source": [
    "df = getScores(labels_true, prediction_pca, prediction_svd, X_pca, X_svd)\n",
    "df\n"
   ]
  },
  {
   "cell_type": "markdown",
   "metadata": {},
   "source": [
    "### Gráfico"
   ]
  },
  {
   "cell_type": "code",
   "execution_count": 181,
   "metadata": {},
   "outputs": [],
   "source": [
    "graph(prediction_pca, prediction_svd)"
   ]
  },
  {
   "cell_type": "markdown",
   "metadata": {},
   "source": [
    "### Implementación"
   ]
  },
  {
   "cell_type": "code",
   "execution_count": 182,
   "metadata": {},
   "outputs": [],
   "source": [
    "def Init_Centroide(dataset, k):\n",
    "    centroides = dataset[np.random.choice(dataset.shape[0], k, replace=False), :]\n",
    "    return centroides"
   ]
  },
  {
   "cell_type": "code",
   "execution_count": 183,
   "metadata": {},
   "outputs": [],
   "source": [
    "def getMinDistance(dataset, centroide):\n",
    "    m, n = dataset.shape\n",
    "    store_index = []\n",
    "    for row in dataset: # n\n",
    "        store_index.append(np.argmin(euclidean_distances(centroide, [row])))\n",
    "    return store_index"
   ]
  },
  {
   "cell_type": "code",
   "execution_count": 184,
   "metadata": {},
   "outputs": [],
   "source": [
    "def getMeans(dataset, grupos, n):\n",
    "    centroides = []\n",
    "    for i in range(n):\n",
    "        array = [dataset[k]  for k, e in enumerate(grupos) if i == e]\n",
    "        size = len(array)\n",
    "        centroides.append(np.sum(array, axis = 0) / size)\n",
    "    return centroides\n",
    "    "
   ]
  },
  {
   "cell_type": "code",
   "execution_count": 185,
   "metadata": {},
   "outputs": [],
   "source": [
    "def kmean(dataset, k = 2, n_iter = 1000):\n",
    "    centroides = Init_Centroide(dataset, k) # Selecciona k centroides\n",
    "    grupos = None\n",
    "    for i in range(n_iter):\n",
    "        grupos = getMinDistance(dataset, centroides)\n",
    "        temp = getMeans(dataset, grupos, k)\n",
    "        diff = np.array(centroides) - np.array(temp)\n",
    "        centroides = temp\n",
    "    return centroides, grupos"
   ]
  },
  {
   "cell_type": "code",
   "execution_count": 186,
   "metadata": {},
   "outputs": [],
   "source": [
    "centroides_pca, labels_pca = kmean(X_pca, k = 7)\n",
    "centroides_svd, labels_svd = kmean(X_svd, k = 7)\n"
   ]
  },
  {
   "cell_type": "code",
   "execution_count": 187,
   "metadata": {},
   "outputs": [
    {
     "name": "stdout",
     "output_type": "stream",
     "text": [
      "PCA\n",
      "{'kidney': [6, 3], 'hippocampus': [1], 'cerebellum': [0, 5], 'colon': [2], 'liver': [4], 'endometrium': [3], 'placenta': [2]}\n",
      "SVD\n",
      "{'kidney': [6, 1], 'hippocampus': [5, 2], 'cerebellum': [4, 1, 0], 'colon': [6], 'liver': [3, 1], 'endometrium': [6], 'placenta': [6]}\n"
     ]
    }
   ],
   "source": [
    "print(\"PCA\")\n",
    "printCluster(target, labels_pca)\n",
    "print(\"SVD\")\n",
    "printCluster(target, labels_svd)"
   ]
  },
  {
   "cell_type": "markdown",
   "metadata": {},
   "source": [
    "### Scores"
   ]
  },
  {
   "cell_type": "code",
   "execution_count": 188,
   "metadata": {},
   "outputs": [
    {
     "data": {
      "text/html": [
       "<div>\n",
       "<style scoped>\n",
       "    .dataframe tbody tr th:only-of-type {\n",
       "        vertical-align: middle;\n",
       "    }\n",
       "\n",
       "    .dataframe tbody tr th {\n",
       "        vertical-align: top;\n",
       "    }\n",
       "\n",
       "    .dataframe thead th {\n",
       "        text-align: right;\n",
       "    }\n",
       "</style>\n",
       "<table border=\"1\" class=\"dataframe\">\n",
       "  <thead>\n",
       "    <tr style=\"text-align: right;\">\n",
       "      <th></th>\n",
       "      <th>Silhouette</th>\n",
       "      <th>Rand</th>\n",
       "      <th>Adjust Mutual Information</th>\n",
       "    </tr>\n",
       "  </thead>\n",
       "  <tbody>\n",
       "    <tr>\n",
       "      <th>PCA</th>\n",
       "      <td>0.308272</td>\n",
       "      <td>0.942756</td>\n",
       "      <td>0.876153</td>\n",
       "    </tr>\n",
       "    <tr>\n",
       "      <th>SVD</th>\n",
       "      <td>0.289323</td>\n",
       "      <td>0.807047</td>\n",
       "      <td>0.704585</td>\n",
       "    </tr>\n",
       "  </tbody>\n",
       "</table>\n",
       "</div>"
      ],
      "text/plain": [
       "     Silhouette      Rand  Adjust Mutual Information\n",
       "PCA    0.308272  0.942756                   0.876153\n",
       "SVD    0.289323  0.807047                   0.704585"
      ]
     },
     "execution_count": 188,
     "metadata": {},
     "output_type": "execute_result"
    }
   ],
   "source": [
    "df = getScores(labels_true, labels_pca, labels_svd, X_pca, X_svd)\n",
    "df\n"
   ]
  },
  {
   "cell_type": "markdown",
   "metadata": {},
   "source": [
    "# DBSCAN"
   ]
  },
  {
   "cell_type": "markdown",
   "metadata": {},
   "source": [
    "### Librería"
   ]
  },
  {
   "cell_type": "code",
   "execution_count": 189,
   "metadata": {},
   "outputs": [
    {
     "data": {
      "text/plain": [
       "DBSCAN(eps=90, min_samples=3)"
      ]
     },
     "execution_count": 189,
     "metadata": {},
     "output_type": "execute_result"
    }
   ],
   "source": [
    "from sklearn.cluster import DBSCAN\n",
    "dbscan_pca = DBSCAN(eps= 90, min_samples= 3)\n",
    "dbscan_pca.fit(X_pca)\n",
    "dbscan_svd = DBSCAN(eps= 90, min_samples= 3)\n",
    "dbscan_svd.fit(X_svd)"
   ]
  },
  {
   "cell_type": "code",
   "execution_count": 190,
   "metadata": {},
   "outputs": [],
   "source": [
    "prediction_pca = dbscan_pca.labels_\n",
    "prediction_svd = dbscan_svd.labels_"
   ]
  },
  {
   "cell_type": "code",
   "execution_count": 191,
   "metadata": {},
   "outputs": [
    {
     "name": "stdout",
     "output_type": "stream",
     "text": [
      "PCA\n",
      "{'kidney': [0], 'hippocampus': [1], 'cerebellum': [1, -1, 5], 'colon': [2], 'liver': [3, -1], 'endometrium': [4], 'placenta': [6]}\n",
      "SVD\n",
      "{'kidney': [0], 'hippocampus': [1], 'cerebellum': [1, -1, 5], 'colon': [2], 'liver': [3, -1], 'endometrium': [4], 'placenta': [6]}\n"
     ]
    }
   ],
   "source": [
    "print(\"PCA\")\n",
    "printCluster(target, prediction_pca)\n",
    "print(\"SVD\")\n",
    "printCluster(target, prediction_svd)"
   ]
  },
  {
   "cell_type": "markdown",
   "metadata": {},
   "source": [
    "### Scores"
   ]
  },
  {
   "cell_type": "code",
   "execution_count": 192,
   "metadata": {},
   "outputs": [
    {
     "data": {
      "text/html": [
       "<div>\n",
       "<style scoped>\n",
       "    .dataframe tbody tr th:only-of-type {\n",
       "        vertical-align: middle;\n",
       "    }\n",
       "\n",
       "    .dataframe tbody tr th {\n",
       "        vertical-align: top;\n",
       "    }\n",
       "\n",
       "    .dataframe thead th {\n",
       "        text-align: right;\n",
       "    }\n",
       "</style>\n",
       "<table border=\"1\" class=\"dataframe\">\n",
       "  <thead>\n",
       "    <tr style=\"text-align: right;\">\n",
       "      <th></th>\n",
       "      <th>Silhouette</th>\n",
       "      <th>Rand</th>\n",
       "      <th>Adjust Mutual Information</th>\n",
       "    </tr>\n",
       "  </thead>\n",
       "  <tbody>\n",
       "    <tr>\n",
       "      <th>PCA</th>\n",
       "      <td>0.306856</td>\n",
       "      <td>0.930204</td>\n",
       "      <td>0.881127</td>\n",
       "    </tr>\n",
       "    <tr>\n",
       "      <th>SVD</th>\n",
       "      <td>0.306924</td>\n",
       "      <td>0.930204</td>\n",
       "      <td>0.881127</td>\n",
       "    </tr>\n",
       "  </tbody>\n",
       "</table>\n",
       "</div>"
      ],
      "text/plain": [
       "     Silhouette      Rand  Adjust Mutual Information\n",
       "PCA    0.306856  0.930204                   0.881127\n",
       "SVD    0.306924  0.930204                   0.881127"
      ]
     },
     "execution_count": 192,
     "metadata": {},
     "output_type": "execute_result"
    }
   ],
   "source": [
    "df = getScores(labels_true, prediction_pca, prediction_svd, X_pca, X_svd)\n",
    "df\n"
   ]
  },
  {
   "cell_type": "markdown",
   "metadata": {},
   "source": [
    "### Gráfico"
   ]
  },
  {
   "cell_type": "code",
   "execution_count": 193,
   "metadata": {},
   "outputs": [],
   "source": [
    "graph(prediction_pca, prediction_svd)\n"
   ]
  },
  {
   "cell_type": "markdown",
   "metadata": {},
   "source": [
    "### Implementación"
   ]
  },
  {
   "cell_type": "code",
   "execution_count": 194,
   "metadata": {},
   "outputs": [],
   "source": [
    "def sequentialDBSCAN(database, radius, minPts):\n",
    "    undefined = -1\n",
    "    noise = -2\n",
    "    label = [undefined for i in range(len(database))]\n",
    "    m,n = database.shape\n",
    "    c = 0\n",
    "    for i, point in enumerate(database):\n",
    "        if label[i] != undefined:\n",
    "            continue\n",
    "        tree = KDTree(database, metric='euclidean')\n",
    "        neighbours = tree.query_radius(point.reshape(-1, len(point)), r = radius)\n",
    "        N = len(neighbours[0])\n",
    "        if N < minPts:\n",
    "            label[i] = noise\n",
    "            continue\n",
    "        label[i] = c\n",
    "        s = np.array([database[z] for z in list(neighbours[0])])\n",
    "        k = neighbours[0]\n",
    "        s = np.delete(s, np.where(s == point)[0][0], axis = 0)\n",
    "        k = np.delete(k, np.where(k == i))\n",
    "        j = 0\n",
    "        cambios = False\n",
    "        while j < len(s):\n",
    "            e = s[j].reshape(-1, n)\n",
    "            idx = k[j]\n",
    "            j+=1\n",
    "            if label[idx] == noise:\n",
    "                label[idx] = c\n",
    "            if label[idx] != undefined:\n",
    "                continue\n",
    "            tree = KDTree(database, metric='euclidean')\n",
    "            neighbours = tree.query_radius(e, r = radius)\n",
    "            label[idx] = c\n",
    "            N = len(neighbours[0])\n",
    "            if N < minPts:\n",
    "                continue\n",
    "            for z in list(neighbours[0]):\n",
    "                if z not in k:\n",
    "                    k = np.append(k, z)\n",
    "                    s = np.append(s, np.array([database[z]]), axis= 0)\n",
    "            cambios = True\n",
    "        if cambios:\n",
    "            c+=1\n",
    "    return label"
   ]
  },
  {
   "cell_type": "code",
   "execution_count": 195,
   "metadata": {},
   "outputs": [],
   "source": [
    "dbscanLabel_pca = sequentialDBSCAN(X_pca, radius = 90, minPts = 3)\n",
    "dbscanLabel_svd = sequentialDBSCAN(X_svd, radius = 90, minPts = 3)"
   ]
  },
  {
   "cell_type": "code",
   "execution_count": 196,
   "metadata": {},
   "outputs": [
    {
     "name": "stdout",
     "output_type": "stream",
     "text": [
      "PCA\n",
      "{'kidney': [0], 'hippocampus': [1], 'cerebellum': [1, -2, 5], 'colon': [2], 'liver': [3, -2], 'endometrium': [4], 'placenta': [6]}\n",
      "SVD\n",
      "{'kidney': [0], 'hippocampus': [1], 'cerebellum': [1, -2, 5], 'colon': [2], 'liver': [3, -2], 'endometrium': [4], 'placenta': [6]}\n"
     ]
    }
   ],
   "source": [
    "print(\"PCA\")\n",
    "printCluster(target, dbscanLabel_pca)\n",
    "print(\"SVD\")\n",
    "printCluster(target, dbscanLabel_svd)"
   ]
  },
  {
   "cell_type": "markdown",
   "metadata": {},
   "source": [
    "### Scores"
   ]
  },
  {
   "cell_type": "code",
   "execution_count": 197,
   "metadata": {},
   "outputs": [
    {
     "data": {
      "text/html": [
       "<div>\n",
       "<style scoped>\n",
       "    .dataframe tbody tr th:only-of-type {\n",
       "        vertical-align: middle;\n",
       "    }\n",
       "\n",
       "    .dataframe tbody tr th {\n",
       "        vertical-align: top;\n",
       "    }\n",
       "\n",
       "    .dataframe thead th {\n",
       "        text-align: right;\n",
       "    }\n",
       "</style>\n",
       "<table border=\"1\" class=\"dataframe\">\n",
       "  <thead>\n",
       "    <tr style=\"text-align: right;\">\n",
       "      <th></th>\n",
       "      <th>Silhouette</th>\n",
       "      <th>Rand</th>\n",
       "      <th>Adjust Mutual Information</th>\n",
       "    </tr>\n",
       "  </thead>\n",
       "  <tbody>\n",
       "    <tr>\n",
       "      <th>PCA</th>\n",
       "      <td>0.306856</td>\n",
       "      <td>0.930204</td>\n",
       "      <td>0.881127</td>\n",
       "    </tr>\n",
       "    <tr>\n",
       "      <th>SVD</th>\n",
       "      <td>0.306924</td>\n",
       "      <td>0.930204</td>\n",
       "      <td>0.881127</td>\n",
       "    </tr>\n",
       "  </tbody>\n",
       "</table>\n",
       "</div>"
      ],
      "text/plain": [
       "     Silhouette      Rand  Adjust Mutual Information\n",
       "PCA    0.306856  0.930204                   0.881127\n",
       "SVD    0.306924  0.930204                   0.881127"
      ]
     },
     "execution_count": 197,
     "metadata": {},
     "output_type": "execute_result"
    }
   ],
   "source": [
    "df = getScores(labels_true, dbscanLabel_pca, dbscanLabel_svd, X_pca, X_svd)\n",
    "df\n"
   ]
  },
  {
   "cell_type": "markdown",
   "metadata": {},
   "source": [
    "# Agglomerative Hierarchical Clustering"
   ]
  },
  {
   "cell_type": "code",
   "execution_count": 198,
   "metadata": {},
   "outputs": [
    {
     "data": {
      "text/plain": [
       "AgglomerativeClustering(n_clusters=7)"
      ]
     },
     "execution_count": 198,
     "metadata": {},
     "output_type": "execute_result"
    }
   ],
   "source": [
    "from sklearn.cluster import AgglomerativeClustering\n",
    "\n",
    "cluster_pca = AgglomerativeClustering(n_clusters=7)\n",
    "cluster_pca.fit(X_pca)\n",
    "cluster_svd = AgglomerativeClustering(n_clusters=7)\n",
    "cluster_svd.fit(X_svd)"
   ]
  },
  {
   "cell_type": "code",
   "execution_count": 199,
   "metadata": {},
   "outputs": [],
   "source": [
    "prediction_pca = cluster_pca.fit_predict(X_pca)\n",
    "prediction_svd = cluster_svd.fit_predict(X_svd)"
   ]
  },
  {
   "cell_type": "code",
   "execution_count": 200,
   "metadata": {},
   "outputs": [
    {
     "name": "stdout",
     "output_type": "stream",
     "text": [
      "PCA\n",
      "{'kidney': [0, 6], 'hippocampus': [1], 'cerebellum': [4, 6, 1], 'colon': [5], 'liver': [3, 6], 'endometrium': [0], 'placenta': [2]}\n",
      "SVD\n",
      "{'kidney': [0, 6], 'hippocampus': [1], 'cerebellum': [4, 6, 1], 'colon': [5], 'liver': [3, 6], 'endometrium': [0], 'placenta': [2]}\n"
     ]
    }
   ],
   "source": [
    "print(\"PCA\")\n",
    "printCluster(target, prediction_pca)\n",
    "print(\"SVD\")\n",
    "printCluster(target, prediction_svd)"
   ]
  },
  {
   "cell_type": "markdown",
   "metadata": {},
   "source": [
    "# Scores"
   ]
  },
  {
   "cell_type": "markdown",
   "metadata": {},
   "source": [
    "### Gráfico"
   ]
  },
  {
   "cell_type": "code",
   "execution_count": 201,
   "metadata": {},
   "outputs": [
    {
     "data": {
      "text/html": [
       "<div>\n",
       "<style scoped>\n",
       "    .dataframe tbody tr th:only-of-type {\n",
       "        vertical-align: middle;\n",
       "    }\n",
       "\n",
       "    .dataframe tbody tr th {\n",
       "        vertical-align: top;\n",
       "    }\n",
       "\n",
       "    .dataframe thead th {\n",
       "        text-align: right;\n",
       "    }\n",
       "</style>\n",
       "<table border=\"1\" class=\"dataframe\">\n",
       "  <thead>\n",
       "    <tr style=\"text-align: right;\">\n",
       "      <th></th>\n",
       "      <th>Silhouette</th>\n",
       "      <th>Rand</th>\n",
       "      <th>Adjust Mutual Information</th>\n",
       "    </tr>\n",
       "  </thead>\n",
       "  <tbody>\n",
       "    <tr>\n",
       "      <th>PCA</th>\n",
       "      <td>0.328976</td>\n",
       "      <td>0.939716</td>\n",
       "      <td>0.859905</td>\n",
       "    </tr>\n",
       "    <tr>\n",
       "      <th>SVD</th>\n",
       "      <td>0.329031</td>\n",
       "      <td>0.939716</td>\n",
       "      <td>0.859905</td>\n",
       "    </tr>\n",
       "  </tbody>\n",
       "</table>\n",
       "</div>"
      ],
      "text/plain": [
       "     Silhouette      Rand  Adjust Mutual Information\n",
       "PCA    0.328976  0.939716                   0.859905\n",
       "SVD    0.329031  0.939716                   0.859905"
      ]
     },
     "execution_count": 201,
     "metadata": {},
     "output_type": "execute_result"
    }
   ],
   "source": [
    "df = getScores(labels_true, prediction_pca, prediction_svd, X_pca, X_svd)\n",
    "df\n"
   ]
  },
  {
   "cell_type": "code",
   "execution_count": 128,
   "metadata": {},
   "outputs": [
    {
     "data": {
      "image/png": "[encoded data removed]",
      "text/plain": [
       "<Figure size 2400x800 with 2 Axes>"
      ]
     },
     "metadata": {},
     "output_type": "display_data"
    }
   ],
   "source": [
    "graph(prediction_pca, prediction_svd)"
   ]
  }
 ],
 "metadata": {
  "kernelspec": {
   "display_name": "Python 3.9.12 ('base')",
   "language": "python",
   "name": "python3"
  },
  "language_info": {
   "codemirror_mode": {
    "name": "ipython",
    "version": 3
   },
   "file_extension": ".py",
   "mimetype": "text/x-python",
   "name": "python",
   "nbconvert_exporter": "python",
   "pygments_lexer": "ipython3",
   "version": "3.9.12"
  },
  "orig_nbformat": 4,
  "vscode": {
   "interpreter": {
    "hash": "cc8e5058f68ae25fd0b682edbcb4bd875f373e41e844c915b7302617da639678"
   }
  }
 },
 "nbformat": 4,
 "nbformat_minor": 2
}

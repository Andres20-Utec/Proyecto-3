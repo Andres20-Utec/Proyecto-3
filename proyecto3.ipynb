{
 "cells": [
  {
   "cell_type": "code",
   "execution_count": 67,
   "metadata": {},
   "outputs": [],
   "source": [
    "import pandas as pd\n",
    "import numpy as np\n",
    "from sklearn.decomposition import PCA\n",
    "from sklearn.decomposition import TruncatedSVD \n",
    "from sklearn.metrics.pairwise import euclidean_distances, manhattan_distances\n",
    "from sklearn.neighbors import KDTree\n",
    "from sklearn.preprocessing import StandardScaler\n",
    "\n",
    "\n",
    "import warnings\n",
    "warnings.filterwarnings('ignore')"
   ]
  },
  {
   "cell_type": "code",
   "execution_count": 68,
   "metadata": {},
   "outputs": [
    {
     "data": {
      "text/html": [
       "<div>\n",
       "<style scoped>\n",
       "    .dataframe tbody tr th:only-of-type {\n",
       "        vertical-align: middle;\n",
       "    }\n",
       "\n",
       "    .dataframe tbody tr th {\n",
       "        vertical-align: top;\n",
       "    }\n",
       "\n",
       "    .dataframe thead th {\n",
       "        text-align: right;\n",
       "    }\n",
       "</style>\n",
       "<table border=\"1\" class=\"dataframe\">\n",
       "  <thead>\n",
       "    <tr style=\"text-align: right;\">\n",
       "      <th></th>\n",
       "      <th>Unnamed: 0</th>\n",
       "      <th>GSM11805.CEL.gz</th>\n",
       "      <th>GSM11814.CEL.gz</th>\n",
       "      <th>GSM11823.CEL.gz</th>\n",
       "      <th>GSM11830.CEL.gz</th>\n",
       "      <th>GSM12067.CEL.gz</th>\n",
       "      <th>GSM12075.CEL.gz</th>\n",
       "      <th>GSM12079.CEL.gz</th>\n",
       "      <th>GSM12098.CEL.gz</th>\n",
       "      <th>GSM12105.CEL.gz</th>\n",
       "      <th>...</th>\n",
       "      <th>GSM323527.CEL.gz</th>\n",
       "      <th>GSM323565.CEL.gz</th>\n",
       "      <th>GSM323566.CEL.gz</th>\n",
       "      <th>GSM323567.CEL.gz</th>\n",
       "      <th>GSM246492.CEL.gz</th>\n",
       "      <th>GSM246493.CEL.gz</th>\n",
       "      <th>GSM246494.CEL.gz</th>\n",
       "      <th>GSM307639.CEL.gz</th>\n",
       "      <th>GSM307640.CEL.gz</th>\n",
       "      <th>GSM307641.CEL.gz</th>\n",
       "    </tr>\n",
       "  </thead>\n",
       "  <tbody>\n",
       "    <tr>\n",
       "      <th>0</th>\n",
       "      <td>1007_s_at</td>\n",
       "      <td>10.191267</td>\n",
       "      <td>10.509167</td>\n",
       "      <td>10.272027</td>\n",
       "      <td>10.252952</td>\n",
       "      <td>10.157605</td>\n",
       "      <td>9.966782</td>\n",
       "      <td>9.839348</td>\n",
       "      <td>9.945652</td>\n",
       "      <td>9.913031</td>\n",
       "      <td>...</td>\n",
       "      <td>11.797743</td>\n",
       "      <td>10.040886</td>\n",
       "      <td>11.285002</td>\n",
       "      <td>9.888693</td>\n",
       "      <td>9.661127</td>\n",
       "      <td>9.803686</td>\n",
       "      <td>10.509541</td>\n",
       "      <td>9.984502</td>\n",
       "      <td>9.937738</td>\n",
       "      <td>10.306781</td>\n",
       "    </tr>\n",
       "    <tr>\n",
       "      <th>1</th>\n",
       "      <td>1053_at</td>\n",
       "      <td>6.040463</td>\n",
       "      <td>6.696075</td>\n",
       "      <td>6.144663</td>\n",
       "      <td>6.575153</td>\n",
       "      <td>6.606701</td>\n",
       "      <td>6.060069</td>\n",
       "      <td>6.186596</td>\n",
       "      <td>5.927861</td>\n",
       "      <td>6.337478</td>\n",
       "      <td>...</td>\n",
       "      <td>6.157979</td>\n",
       "      <td>6.224848</td>\n",
       "      <td>6.170956</td>\n",
       "      <td>6.211522</td>\n",
       "      <td>6.270153</td>\n",
       "      <td>6.058488</td>\n",
       "      <td>6.345526</td>\n",
       "      <td>6.715984</td>\n",
       "      <td>6.836179</td>\n",
       "      <td>7.025547</td>\n",
       "    </tr>\n",
       "    <tr>\n",
       "      <th>2</th>\n",
       "      <td>117_at</td>\n",
       "      <td>7.447409</td>\n",
       "      <td>7.775354</td>\n",
       "      <td>7.696235</td>\n",
       "      <td>8.478135</td>\n",
       "      <td>8.116336</td>\n",
       "      <td>7.644452</td>\n",
       "      <td>8.009581</td>\n",
       "      <td>7.847192</td>\n",
       "      <td>7.983850</td>\n",
       "      <td>...</td>\n",
       "      <td>7.727192</td>\n",
       "      <td>7.573437</td>\n",
       "      <td>7.323547</td>\n",
       "      <td>7.228568</td>\n",
       "      <td>7.333568</td>\n",
       "      <td>7.486711</td>\n",
       "      <td>7.468406</td>\n",
       "      <td>7.120793</td>\n",
       "      <td>7.125811</td>\n",
       "      <td>7.407624</td>\n",
       "    </tr>\n",
       "    <tr>\n",
       "      <th>3</th>\n",
       "      <td>121_at</td>\n",
       "      <td>12.025042</td>\n",
       "      <td>12.007817</td>\n",
       "      <td>11.633279</td>\n",
       "      <td>11.075286</td>\n",
       "      <td>10.832528</td>\n",
       "      <td>11.705062</td>\n",
       "      <td>11.706145</td>\n",
       "      <td>11.750370</td>\n",
       "      <td>10.706184</td>\n",
       "      <td>...</td>\n",
       "      <td>10.443504</td>\n",
       "      <td>10.566722</td>\n",
       "      <td>10.250737</td>\n",
       "      <td>10.191332</td>\n",
       "      <td>9.703713</td>\n",
       "      <td>9.914632</td>\n",
       "      <td>9.909784</td>\n",
       "      <td>9.409933</td>\n",
       "      <td>9.587782</td>\n",
       "      <td>9.792904</td>\n",
       "    </tr>\n",
       "    <tr>\n",
       "      <th>4</th>\n",
       "      <td>1255_g_at</td>\n",
       "      <td>5.269269</td>\n",
       "      <td>5.180389</td>\n",
       "      <td>5.301714</td>\n",
       "      <td>5.372235</td>\n",
       "      <td>5.334905</td>\n",
       "      <td>5.253682</td>\n",
       "      <td>5.228794</td>\n",
       "      <td>5.155278</td>\n",
       "      <td>5.236442</td>\n",
       "      <td>...</td>\n",
       "      <td>5.263736</td>\n",
       "      <td>5.048867</td>\n",
       "      <td>5.062005</td>\n",
       "      <td>5.186962</td>\n",
       "      <td>5.158631</td>\n",
       "      <td>5.312712</td>\n",
       "      <td>5.341193</td>\n",
       "      <td>4.896124</td>\n",
       "      <td>5.296695</td>\n",
       "      <td>5.206251</td>\n",
       "    </tr>\n",
       "  </tbody>\n",
       "</table>\n",
       "<p>5 rows × 190 columns</p>\n",
       "</div>"
      ],
      "text/plain": [
       "  Unnamed: 0  GSM11805.CEL.gz  GSM11814.CEL.gz  GSM11823.CEL.gz  \\\n",
       "0  1007_s_at        10.191267        10.509167        10.272027   \n",
       "1    1053_at         6.040463         6.696075         6.144663   \n",
       "2     117_at         7.447409         7.775354         7.696235   \n",
       "3     121_at        12.025042        12.007817        11.633279   \n",
       "4  1255_g_at         5.269269         5.180389         5.301714   \n",
       "\n",
       "   GSM11830.CEL.gz  GSM12067.CEL.gz  GSM12075.CEL.gz  GSM12079.CEL.gz  \\\n",
       "0        10.252952        10.157605         9.966782         9.839348   \n",
       "1         6.575153         6.606701         6.060069         6.186596   \n",
       "2         8.478135         8.116336         7.644452         8.009581   \n",
       "3        11.075286        10.832528        11.705062        11.706145   \n",
       "4         5.372235         5.334905         5.253682         5.228794   \n",
       "\n",
       "   GSM12098.CEL.gz  GSM12105.CEL.gz  ...  GSM323527.CEL.gz  GSM323565.CEL.gz  \\\n",
       "0         9.945652         9.913031  ...         11.797743         10.040886   \n",
       "1         5.927861         6.337478  ...          6.157979          6.224848   \n",
       "2         7.847192         7.983850  ...          7.727192          7.573437   \n",
       "3        11.750370        10.706184  ...         10.443504         10.566722   \n",
       "4         5.155278         5.236442  ...          5.263736          5.048867   \n",
       "\n",
       "   GSM323566.CEL.gz  GSM323567.CEL.gz  GSM246492.CEL.gz  GSM246493.CEL.gz  \\\n",
       "0         11.285002          9.888693          9.661127          9.803686   \n",
       "1          6.170956          6.211522          6.270153          6.058488   \n",
       "2          7.323547          7.228568          7.333568          7.486711   \n",
       "3         10.250737         10.191332          9.703713          9.914632   \n",
       "4          5.062005          5.186962          5.158631          5.312712   \n",
       "\n",
       "   GSM246494.CEL.gz  GSM307639.CEL.gz  GSM307640.CEL.gz  GSM307641.CEL.gz  \n",
       "0         10.509541          9.984502          9.937738         10.306781  \n",
       "1          6.345526          6.715984          6.836179          7.025547  \n",
       "2          7.468406          7.120793          7.125811          7.407624  \n",
       "3          9.909784          9.409933          9.587782          9.792904  \n",
       "4          5.341193          4.896124          5.296695          5.206251  \n",
       "\n",
       "[5 rows x 190 columns]"
      ]
     },
     "execution_count": 68,
     "metadata": {},
     "output_type": "execute_result"
    }
   ],
   "source": [
    "data = pd.read_csv(\"dataset/dataset_tissue.txt\", sep=\",\")\n",
    "data.head()"
   ]
  },
  {
   "cell_type": "code",
   "execution_count": 69,
   "metadata": {},
   "outputs": [
    {
     "data": {
      "text/plain": [
       "(22215, 190)"
      ]
     },
     "execution_count": 69,
     "metadata": {},
     "output_type": "execute_result"
    }
   ],
   "source": [
    "data.shape"
   ]
  },
  {
   "cell_type": "code",
   "execution_count": 70,
   "metadata": {},
   "outputs": [
    {
     "data": {
      "text/html": [
       "<div>\n",
       "<style scoped>\n",
       "    .dataframe tbody tr th:only-of-type {\n",
       "        vertical-align: middle;\n",
       "    }\n",
       "\n",
       "    .dataframe tbody tr th {\n",
       "        vertical-align: top;\n",
       "    }\n",
       "\n",
       "    .dataframe thead th {\n",
       "        text-align: right;\n",
       "    }\n",
       "</style>\n",
       "<table border=\"1\" class=\"dataframe\">\n",
       "  <thead>\n",
       "    <tr style=\"text-align: right;\">\n",
       "      <th></th>\n",
       "      <th>Unnamed: 0</th>\n",
       "      <th>x</th>\n",
       "    </tr>\n",
       "  </thead>\n",
       "  <tbody>\n",
       "    <tr>\n",
       "      <th>0</th>\n",
       "      <td>1</td>\n",
       "      <td>kidney</td>\n",
       "    </tr>\n",
       "    <tr>\n",
       "      <th>1</th>\n",
       "      <td>2</td>\n",
       "      <td>kidney</td>\n",
       "    </tr>\n",
       "    <tr>\n",
       "      <th>2</th>\n",
       "      <td>3</td>\n",
       "      <td>kidney</td>\n",
       "    </tr>\n",
       "    <tr>\n",
       "      <th>3</th>\n",
       "      <td>4</td>\n",
       "      <td>kidney</td>\n",
       "    </tr>\n",
       "    <tr>\n",
       "      <th>4</th>\n",
       "      <td>5</td>\n",
       "      <td>kidney</td>\n",
       "    </tr>\n",
       "  </tbody>\n",
       "</table>\n",
       "</div>"
      ],
      "text/plain": [
       "   Unnamed: 0       x\n",
       "0           1  kidney\n",
       "1           2  kidney\n",
       "2           3  kidney\n",
       "3           4  kidney\n",
       "4           5  kidney"
      ]
     },
     "execution_count": 70,
     "metadata": {},
     "output_type": "execute_result"
    }
   ],
   "source": [
    "clase = pd.read_csv(\"dataset/clase.txt\")\n",
    "clase.head()"
   ]
  },
  {
   "cell_type": "code",
   "execution_count": 71,
   "metadata": {},
   "outputs": [
    {
     "name": "stdout",
     "output_type": "stream",
     "text": [
      "kidney : 39\n",
      "hippocampus : 31\n",
      "cerebellum : 38\n",
      "colon : 34\n",
      "liver : 26\n",
      "endometrium : 15\n",
      "placenta : 6\n"
     ]
    }
   ],
   "source": [
    "target = np.array(clase['x']).T\n",
    "element_count = {}\n",
    "for elem in list(target):\n",
    "    if elem not in element_count:\n",
    "        element_count[elem] = 1\n",
    "    else:\n",
    "        element_count[elem]+=1\n",
    "\n",
    "for elem, count in element_count.items():\n",
    "    print(f'{elem} : {count}')"
   ]
  },
  {
   "cell_type": "code",
   "execution_count": 72,
   "metadata": {},
   "outputs": [
    {
     "name": "stdout",
     "output_type": "stream",
     "text": [
      "['cerebellum' 'colon' 'endometrium' 'hippocampus' 'kidney' 'liver'\n",
      " 'placenta']\n",
      "Cantidad de clusters: 7\n"
     ]
    }
   ],
   "source": [
    "print(np.unique(target))\n",
    "print(f\"Cantidad de clusters: {len(np.unique(target))}\")"
   ]
  },
  {
   "cell_type": "code",
   "execution_count": 73,
   "metadata": {},
   "outputs": [
    {
     "data": {
      "text/plain": [
       "(189, 22215)"
      ]
     },
     "execution_count": 73,
     "metadata": {},
     "output_type": "execute_result"
    }
   ],
   "source": [
    "X = np.array(data.iloc[:, 1:]).T\n",
    "X.shape"
   ]
  },
  {
   "cell_type": "markdown",
   "metadata": {},
   "source": [
    "### PCA"
   ]
  },
  {
   "cell_type": "code",
   "execution_count": 74,
   "metadata": {},
   "outputs": [
    {
     "data": {
      "text/plain": [
       "(189, 184)"
      ]
     },
     "execution_count": 74,
     "metadata": {},
     "output_type": "execute_result"
    }
   ],
   "source": [
    "pca = PCA(svd_solver=\"full\", n_components =0.99999)\n",
    "pca.fit(X)\n",
    "X_pca = pca.transform(X)\n",
    "X_pca.shape"
   ]
  },
  {
   "cell_type": "markdown",
   "metadata": {},
   "source": [
    "### SVD\n"
   ]
  },
  {
   "cell_type": "code",
   "execution_count": 75,
   "metadata": {},
   "outputs": [
    {
     "data": {
      "text/plain": [
       "(189, 184)"
      ]
     },
     "execution_count": 75,
     "metadata": {},
     "output_type": "execute_result"
    }
   ],
   "source": [
    "X_svd = TruncatedSVD(184).fit_transform(X)\n",
    "X_svd.shape"
   ]
  },
  {
   "cell_type": "code",
   "execution_count": 76,
   "metadata": {},
   "outputs": [],
   "source": [
    "def printCluster(target, prediction):\n",
    "    cluster_element = {}\n",
    "    for i, element in zip(target, list(prediction)):\n",
    "        if i not in cluster_element:\n",
    "            cluster_element[i] =[element]\n",
    "        else:\n",
    "            if element not in cluster_element[i]:\n",
    "                cluster_element[i].append(element)\n",
    "    print(cluster_element)"
   ]
  },
  {
   "cell_type": "markdown",
   "metadata": {},
   "source": [
    "# GMM"
   ]
  },
  {
   "cell_type": "markdown",
   "metadata": {},
   "source": [
    "### Librería"
   ]
  },
  {
   "cell_type": "code",
   "execution_count": 77,
   "metadata": {},
   "outputs": [
    {
     "data": {
      "text/html": [
       "<style>#sk-container-id-10 {color: black;background-color: white;}#sk-container-id-10 pre{padding: 0;}#sk-container-id-10 div.sk-toggleable {background-color: white;}#sk-container-id-10 label.sk-toggleable__label {cursor: pointer;display: block;width: 100%;margin-bottom: 0;padding: 0.3em;box-sizing: border-box;text-align: center;}#sk-container-id-10 label.sk-toggleable__label-arrow:before {content: \"▸\";float: left;margin-right: 0.25em;color: #696969;}#sk-container-id-10 label.sk-toggleable__label-arrow:hover:before {color: black;}#sk-container-id-10 div.sk-estimator:hover label.sk-toggleable__label-arrow:before {color: black;}#sk-container-id-10 div.sk-toggleable__content {max-height: 0;max-width: 0;overflow: hidden;text-align: left;background-color: #f0f8ff;}#sk-container-id-10 div.sk-toggleable__content pre {margin: 0.2em;color: black;border-radius: 0.25em;background-color: #f0f8ff;}#sk-container-id-10 input.sk-toggleable__control:checked~div.sk-toggleable__content {max-height: 200px;max-width: 100%;overflow: auto;}#sk-container-id-10 input.sk-toggleable__control:checked~label.sk-toggleable__label-arrow:before {content: \"▾\";}#sk-container-id-10 div.sk-estimator input.sk-toggleable__control:checked~label.sk-toggleable__label {background-color: #d4ebff;}#sk-container-id-10 div.sk-label input.sk-toggleable__control:checked~label.sk-toggleable__label {background-color: #d4ebff;}#sk-container-id-10 input.sk-hidden--visually {border: 0;clip: rect(1px 1px 1px 1px);clip: rect(1px, 1px, 1px, 1px);height: 1px;margin: -1px;overflow: hidden;padding: 0;position: absolute;width: 1px;}#sk-container-id-10 div.sk-estimator {font-family: monospace;background-color: #f0f8ff;border: 1px dotted black;border-radius: 0.25em;box-sizing: border-box;margin-bottom: 0.5em;}#sk-container-id-10 div.sk-estimator:hover {background-color: #d4ebff;}#sk-container-id-10 div.sk-parallel-item::after {content: \"\";width: 100%;border-bottom: 1px solid gray;flex-grow: 1;}#sk-container-id-10 div.sk-label:hover label.sk-toggleable__label {background-color: #d4ebff;}#sk-container-id-10 div.sk-serial::before {content: \"\";position: absolute;border-left: 1px solid gray;box-sizing: border-box;top: 0;bottom: 0;left: 50%;z-index: 0;}#sk-container-id-10 div.sk-serial {display: flex;flex-direction: column;align-items: center;background-color: white;padding-right: 0.2em;padding-left: 0.2em;position: relative;}#sk-container-id-10 div.sk-item {position: relative;z-index: 1;}#sk-container-id-10 div.sk-parallel {display: flex;align-items: stretch;justify-content: center;background-color: white;position: relative;}#sk-container-id-10 div.sk-item::before, #sk-container-id-10 div.sk-parallel-item::before {content: \"\";position: absolute;border-left: 1px solid gray;box-sizing: border-box;top: 0;bottom: 0;left: 50%;z-index: -1;}#sk-container-id-10 div.sk-parallel-item {display: flex;flex-direction: column;z-index: 1;position: relative;background-color: white;}#sk-container-id-10 div.sk-parallel-item:first-child::after {align-self: flex-end;width: 50%;}#sk-container-id-10 div.sk-parallel-item:last-child::after {align-self: flex-start;width: 50%;}#sk-container-id-10 div.sk-parallel-item:only-child::after {width: 0;}#sk-container-id-10 div.sk-dashed-wrapped {border: 1px dashed gray;margin: 0 0.4em 0.5em 0.4em;box-sizing: border-box;padding-bottom: 0.4em;background-color: white;}#sk-container-id-10 div.sk-label label {font-family: monospace;font-weight: bold;display: inline-block;line-height: 1.2em;}#sk-container-id-10 div.sk-label-container {text-align: center;}#sk-container-id-10 div.sk-container {/* jupyter's `normalize.less` sets `[hidden] { display: none; }` but bootstrap.min.css set `[hidden] { display: none !important; }` so we also need the `!important` here to be able to override the default hidden behavior on the sphinx rendered scikit-learn.org. See: https://github.com/scikit-learn/scikit-learn/issues/21755 */display: inline-block !important;position: relative;}#sk-container-id-10 div.sk-text-repr-fallback {display: none;}</style><div id=\"sk-container-id-10\" class=\"sk-top-container\"><div class=\"sk-text-repr-fallback\"><pre>GaussianMixture(n_components=7)</pre><b>In a Jupyter environment, please rerun this cell to show the HTML representation or trust the notebook. <br />On GitHub, the HTML representation is unable to render, please try loading this page with nbviewer.org.</b></div><div class=\"sk-container\" hidden><div class=\"sk-item\"><div class=\"sk-estimator sk-toggleable\"><input class=\"sk-toggleable__control sk-hidden--visually\" id=\"sk-estimator-id-10\" type=\"checkbox\" checked><label for=\"sk-estimator-id-10\" class=\"sk-toggleable__label sk-toggleable__label-arrow\">GaussianMixture</label><div class=\"sk-toggleable__content\"><pre>GaussianMixture(n_components=7)</pre></div></div></div></div></div>"
      ],
      "text/plain": [
       "GaussianMixture(n_components=7)"
      ]
     },
     "execution_count": 77,
     "metadata": {},
     "output_type": "execute_result"
    }
   ],
   "source": [
    "from sklearn.mixture import GaussianMixture\n",
    "gm_pca = GaussianMixture(n_components=7)\n",
    "gm_pca.fit(X_pca)\n",
    "gm_svd = GaussianMixture(n_components=7)\n",
    "gm_svd.fit(X_svd)"
   ]
  },
  {
   "cell_type": "code",
   "execution_count": 78,
   "metadata": {},
   "outputs": [],
   "source": [
    "prediction_pca = gm_pca.predict(X_pca)\n",
    "prediction_svd = gm_svd.predict(X_svd)"
   ]
  },
  {
   "cell_type": "code",
   "execution_count": 79,
   "metadata": {},
   "outputs": [
    {
     "name": "stdout",
     "output_type": "stream",
     "text": [
      "PCA\n",
      "{'kidney': [1], 'hippocampus': [4], 'cerebellum': [2, 6], 'colon': [5], 'liver': [3], 'endometrium': [0], 'placenta': [0]}\n",
      "SVD\n",
      "{'kidney': [3, 5], 'hippocampus': [0], 'cerebellum': [2, 0], 'colon': [6], 'liver': [4], 'endometrium': [5], 'placenta': [1]}\n"
     ]
    }
   ],
   "source": [
    "print(\"PCA\")\n",
    "printCluster(target, prediction_pca)\n",
    "print(\"SVD\")\n",
    "printCluster(target, prediction_svd)"
   ]
  },
  {
   "cell_type": "markdown",
   "metadata": {},
   "source": [
    "### Implementación"
   ]
  },
  {
   "cell_type": "code",
   "execution_count": 80,
   "metadata": {},
   "outputs": [],
   "source": [
    "from scipy.stats import multivariate_normal\n",
    "class GaussianMixtureModel:\n",
    "    pass"
   ]
  },
  {
   "cell_type": "markdown",
   "metadata": {},
   "source": [
    "# K-Means"
   ]
  },
  {
   "cell_type": "markdown",
   "metadata": {},
   "source": [
    "### Librería"
   ]
  },
  {
   "cell_type": "code",
   "execution_count": 81,
   "metadata": {},
   "outputs": [
    {
     "data": {
      "text/html": [
       "<style>#sk-container-id-11 {color: black;background-color: white;}#sk-container-id-11 pre{padding: 0;}#sk-container-id-11 div.sk-toggleable {background-color: white;}#sk-container-id-11 label.sk-toggleable__label {cursor: pointer;display: block;width: 100%;margin-bottom: 0;padding: 0.3em;box-sizing: border-box;text-align: center;}#sk-container-id-11 label.sk-toggleable__label-arrow:before {content: \"▸\";float: left;margin-right: 0.25em;color: #696969;}#sk-container-id-11 label.sk-toggleable__label-arrow:hover:before {color: black;}#sk-container-id-11 div.sk-estimator:hover label.sk-toggleable__label-arrow:before {color: black;}#sk-container-id-11 div.sk-toggleable__content {max-height: 0;max-width: 0;overflow: hidden;text-align: left;background-color: #f0f8ff;}#sk-container-id-11 div.sk-toggleable__content pre {margin: 0.2em;color: black;border-radius: 0.25em;background-color: #f0f8ff;}#sk-container-id-11 input.sk-toggleable__control:checked~div.sk-toggleable__content {max-height: 200px;max-width: 100%;overflow: auto;}#sk-container-id-11 input.sk-toggleable__control:checked~label.sk-toggleable__label-arrow:before {content: \"▾\";}#sk-container-id-11 div.sk-estimator input.sk-toggleable__control:checked~label.sk-toggleable__label {background-color: #d4ebff;}#sk-container-id-11 div.sk-label input.sk-toggleable__control:checked~label.sk-toggleable__label {background-color: #d4ebff;}#sk-container-id-11 input.sk-hidden--visually {border: 0;clip: rect(1px 1px 1px 1px);clip: rect(1px, 1px, 1px, 1px);height: 1px;margin: -1px;overflow: hidden;padding: 0;position: absolute;width: 1px;}#sk-container-id-11 div.sk-estimator {font-family: monospace;background-color: #f0f8ff;border: 1px dotted black;border-radius: 0.25em;box-sizing: border-box;margin-bottom: 0.5em;}#sk-container-id-11 div.sk-estimator:hover {background-color: #d4ebff;}#sk-container-id-11 div.sk-parallel-item::after {content: \"\";width: 100%;border-bottom: 1px solid gray;flex-grow: 1;}#sk-container-id-11 div.sk-label:hover label.sk-toggleable__label {background-color: #d4ebff;}#sk-container-id-11 div.sk-serial::before {content: \"\";position: absolute;border-left: 1px solid gray;box-sizing: border-box;top: 0;bottom: 0;left: 50%;z-index: 0;}#sk-container-id-11 div.sk-serial {display: flex;flex-direction: column;align-items: center;background-color: white;padding-right: 0.2em;padding-left: 0.2em;position: relative;}#sk-container-id-11 div.sk-item {position: relative;z-index: 1;}#sk-container-id-11 div.sk-parallel {display: flex;align-items: stretch;justify-content: center;background-color: white;position: relative;}#sk-container-id-11 div.sk-item::before, #sk-container-id-11 div.sk-parallel-item::before {content: \"\";position: absolute;border-left: 1px solid gray;box-sizing: border-box;top: 0;bottom: 0;left: 50%;z-index: -1;}#sk-container-id-11 div.sk-parallel-item {display: flex;flex-direction: column;z-index: 1;position: relative;background-color: white;}#sk-container-id-11 div.sk-parallel-item:first-child::after {align-self: flex-end;width: 50%;}#sk-container-id-11 div.sk-parallel-item:last-child::after {align-self: flex-start;width: 50%;}#sk-container-id-11 div.sk-parallel-item:only-child::after {width: 0;}#sk-container-id-11 div.sk-dashed-wrapped {border: 1px dashed gray;margin: 0 0.4em 0.5em 0.4em;box-sizing: border-box;padding-bottom: 0.4em;background-color: white;}#sk-container-id-11 div.sk-label label {font-family: monospace;font-weight: bold;display: inline-block;line-height: 1.2em;}#sk-container-id-11 div.sk-label-container {text-align: center;}#sk-container-id-11 div.sk-container {/* jupyter's `normalize.less` sets `[hidden] { display: none; }` but bootstrap.min.css set `[hidden] { display: none !important; }` so we also need the `!important` here to be able to override the default hidden behavior on the sphinx rendered scikit-learn.org. See: https://github.com/scikit-learn/scikit-learn/issues/21755 */display: inline-block !important;position: relative;}#sk-container-id-11 div.sk-text-repr-fallback {display: none;}</style><div id=\"sk-container-id-11\" class=\"sk-top-container\"><div class=\"sk-text-repr-fallback\"><pre>KMeans(n_clusters=7, random_state=0)</pre><b>In a Jupyter environment, please rerun this cell to show the HTML representation or trust the notebook. <br />On GitHub, the HTML representation is unable to render, please try loading this page with nbviewer.org.</b></div><div class=\"sk-container\" hidden><div class=\"sk-item\"><div class=\"sk-estimator sk-toggleable\"><input class=\"sk-toggleable__control sk-hidden--visually\" id=\"sk-estimator-id-11\" type=\"checkbox\" checked><label for=\"sk-estimator-id-11\" class=\"sk-toggleable__label sk-toggleable__label-arrow\">KMeans</label><div class=\"sk-toggleable__content\"><pre>KMeans(n_clusters=7, random_state=0)</pre></div></div></div></div></div>"
      ],
      "text/plain": [
       "KMeans(n_clusters=7, random_state=0)"
      ]
     },
     "execution_count": 81,
     "metadata": {},
     "output_type": "execute_result"
    }
   ],
   "source": [
    "from sklearn.cluster import KMeans\n",
    "kmeans_pca = KMeans(n_clusters=7, random_state=0)\n",
    "kmeans_pca.fit(X_pca)\n",
    "kmeans_svd = KMeans(n_clusters=7, random_state=0)\n",
    "kmeans_svd.fit(X_svd)"
   ]
  },
  {
   "cell_type": "code",
   "execution_count": 82,
   "metadata": {},
   "outputs": [],
   "source": [
    "prediction_pca = kmeans_pca.predict(X_pca)\n",
    "prediction_svd = kmeans_svd.predict(X_svd)"
   ]
  },
  {
   "cell_type": "code",
   "execution_count": 83,
   "metadata": {},
   "outputs": [
    {
     "name": "stdout",
     "output_type": "stream",
     "text": [
      "PCA\n",
      "{'kidney': [4], 'hippocampus': [2], 'cerebellum': [6, 2], 'colon': [3], 'liver': [0], 'endometrium': [1], 'placenta': [5]}\n",
      "SVD\n",
      "{'kidney': [4], 'hippocampus': [2], 'cerebellum': [6, 2], 'colon': [3], 'liver': [0], 'endometrium': [1], 'placenta': [5]}\n"
     ]
    }
   ],
   "source": [
    "print(\"PCA\")\n",
    "printCluster(target, prediction_pca)\n",
    "print(\"SVD\")\n",
    "printCluster(target, prediction_svd)"
   ]
  },
  {
   "cell_type": "markdown",
   "metadata": {},
   "source": [
    "### Implementación"
   ]
  },
  {
   "cell_type": "code",
   "execution_count": 84,
   "metadata": {},
   "outputs": [],
   "source": [
    "def Init_Centroide(dataset, k):\n",
    "    centroides = dataset[np.random.choice(dataset.shape[0], k, replace=False), :]\n",
    "    return centroides"
   ]
  },
  {
   "cell_type": "code",
   "execution_count": 85,
   "metadata": {},
   "outputs": [],
   "source": [
    "def getMinDistance(dataset, centroide):\n",
    "    m, n = dataset.shape\n",
    "    store_index = []\n",
    "    for row in dataset: # n\n",
    "        store_index.append(np.argmin(euclidean_distances(centroide, [row])))\n",
    "    return store_index"
   ]
  },
  {
   "cell_type": "code",
   "execution_count": 86,
   "metadata": {},
   "outputs": [],
   "source": [
    "def getMeans(dataset, grupos, n):\n",
    "    centroides = []\n",
    "    for i in range(n):\n",
    "        array = [dataset[k]  for k, e in enumerate(grupos) if i == e]\n",
    "        size = len(array)\n",
    "        centroides.append(np.sum(array, axis = 0) / size)\n",
    "    return centroides\n",
    "    "
   ]
  },
  {
   "cell_type": "code",
   "execution_count": 87,
   "metadata": {},
   "outputs": [],
   "source": [
    "def kmean(dataset, k = 2, n_iter = 1000):\n",
    "    centroides = Init_Centroide(dataset, k) # Selecciona k centroides\n",
    "    grupos = None\n",
    "    for i in range(n_iter):\n",
    "        grupos = getMinDistance(dataset, centroides)\n",
    "        temp = getMeans(dataset, grupos, k)\n",
    "        diff = np.array(centroides) - np.array(temp)\n",
    "        centroides = temp\n",
    "    return centroides, grupos"
   ]
  },
  {
   "cell_type": "code",
   "execution_count": 111,
   "metadata": {},
   "outputs": [],
   "source": [
    "centroides_pca, labels_pca = kmean(X_pca, k = 7)\n",
    "centroides_svd, labels_svd = kmean(X_svd, k = 7)\n"
   ]
  },
  {
   "cell_type": "code",
   "execution_count": 112,
   "metadata": {},
   "outputs": [
    {
     "name": "stdout",
     "output_type": "stream",
     "text": [
      "PCA\n",
      "{'kidney': [1, 2], 'hippocampus': [4], 'cerebellum': [6, 2, 4, 3], 'colon': [0], 'liver': [5, 2], 'endometrium': [1], 'placenta': [1]}\n",
      "SVD\n",
      "{'kidney': [3, 5], 'hippocampus': [4], 'cerebellum': [2, 5, 0], 'colon': [6], 'liver': [1, 5], 'endometrium': [3], 'placenta': [6]}\n"
     ]
    }
   ],
   "source": [
    "print(\"PCA\")\n",
    "printCluster(target, labels_pca)\n",
    "print(\"SVD\")\n",
    "printCluster(target, labels_svd)"
   ]
  },
  {
   "cell_type": "markdown",
   "metadata": {},
   "source": [
    "# DBSCAN"
   ]
  },
  {
   "cell_type": "markdown",
   "metadata": {},
   "source": [
    "### Librería"
   ]
  },
  {
   "cell_type": "code",
   "execution_count": 90,
   "metadata": {},
   "outputs": [
    {
     "data": {
      "text/html": [
       "<style>#sk-container-id-12 {color: black;background-color: white;}#sk-container-id-12 pre{padding: 0;}#sk-container-id-12 div.sk-toggleable {background-color: white;}#sk-container-id-12 label.sk-toggleable__label {cursor: pointer;display: block;width: 100%;margin-bottom: 0;padding: 0.3em;box-sizing: border-box;text-align: center;}#sk-container-id-12 label.sk-toggleable__label-arrow:before {content: \"▸\";float: left;margin-right: 0.25em;color: #696969;}#sk-container-id-12 label.sk-toggleable__label-arrow:hover:before {color: black;}#sk-container-id-12 div.sk-estimator:hover label.sk-toggleable__label-arrow:before {color: black;}#sk-container-id-12 div.sk-toggleable__content {max-height: 0;max-width: 0;overflow: hidden;text-align: left;background-color: #f0f8ff;}#sk-container-id-12 div.sk-toggleable__content pre {margin: 0.2em;color: black;border-radius: 0.25em;background-color: #f0f8ff;}#sk-container-id-12 input.sk-toggleable__control:checked~div.sk-toggleable__content {max-height: 200px;max-width: 100%;overflow: auto;}#sk-container-id-12 input.sk-toggleable__control:checked~label.sk-toggleable__label-arrow:before {content: \"▾\";}#sk-container-id-12 div.sk-estimator input.sk-toggleable__control:checked~label.sk-toggleable__label {background-color: #d4ebff;}#sk-container-id-12 div.sk-label input.sk-toggleable__control:checked~label.sk-toggleable__label {background-color: #d4ebff;}#sk-container-id-12 input.sk-hidden--visually {border: 0;clip: rect(1px 1px 1px 1px);clip: rect(1px, 1px, 1px, 1px);height: 1px;margin: -1px;overflow: hidden;padding: 0;position: absolute;width: 1px;}#sk-container-id-12 div.sk-estimator {font-family: monospace;background-color: #f0f8ff;border: 1px dotted black;border-radius: 0.25em;box-sizing: border-box;margin-bottom: 0.5em;}#sk-container-id-12 div.sk-estimator:hover {background-color: #d4ebff;}#sk-container-id-12 div.sk-parallel-item::after {content: \"\";width: 100%;border-bottom: 1px solid gray;flex-grow: 1;}#sk-container-id-12 div.sk-label:hover label.sk-toggleable__label {background-color: #d4ebff;}#sk-container-id-12 div.sk-serial::before {content: \"\";position: absolute;border-left: 1px solid gray;box-sizing: border-box;top: 0;bottom: 0;left: 50%;z-index: 0;}#sk-container-id-12 div.sk-serial {display: flex;flex-direction: column;align-items: center;background-color: white;padding-right: 0.2em;padding-left: 0.2em;position: relative;}#sk-container-id-12 div.sk-item {position: relative;z-index: 1;}#sk-container-id-12 div.sk-parallel {display: flex;align-items: stretch;justify-content: center;background-color: white;position: relative;}#sk-container-id-12 div.sk-item::before, #sk-container-id-12 div.sk-parallel-item::before {content: \"\";position: absolute;border-left: 1px solid gray;box-sizing: border-box;top: 0;bottom: 0;left: 50%;z-index: -1;}#sk-container-id-12 div.sk-parallel-item {display: flex;flex-direction: column;z-index: 1;position: relative;background-color: white;}#sk-container-id-12 div.sk-parallel-item:first-child::after {align-self: flex-end;width: 50%;}#sk-container-id-12 div.sk-parallel-item:last-child::after {align-self: flex-start;width: 50%;}#sk-container-id-12 div.sk-parallel-item:only-child::after {width: 0;}#sk-container-id-12 div.sk-dashed-wrapped {border: 1px dashed gray;margin: 0 0.4em 0.5em 0.4em;box-sizing: border-box;padding-bottom: 0.4em;background-color: white;}#sk-container-id-12 div.sk-label label {font-family: monospace;font-weight: bold;display: inline-block;line-height: 1.2em;}#sk-container-id-12 div.sk-label-container {text-align: center;}#sk-container-id-12 div.sk-container {/* jupyter's `normalize.less` sets `[hidden] { display: none; }` but bootstrap.min.css set `[hidden] { display: none !important; }` so we also need the `!important` here to be able to override the default hidden behavior on the sphinx rendered scikit-learn.org. See: https://github.com/scikit-learn/scikit-learn/issues/21755 */display: inline-block !important;position: relative;}#sk-container-id-12 div.sk-text-repr-fallback {display: none;}</style><div id=\"sk-container-id-12\" class=\"sk-top-container\"><div class=\"sk-text-repr-fallback\"><pre>DBSCAN(eps=90, min_samples=3)</pre><b>In a Jupyter environment, please rerun this cell to show the HTML representation or trust the notebook. <br />On GitHub, the HTML representation is unable to render, please try loading this page with nbviewer.org.</b></div><div class=\"sk-container\" hidden><div class=\"sk-item\"><div class=\"sk-estimator sk-toggleable\"><input class=\"sk-toggleable__control sk-hidden--visually\" id=\"sk-estimator-id-12\" type=\"checkbox\" checked><label for=\"sk-estimator-id-12\" class=\"sk-toggleable__label sk-toggleable__label-arrow\">DBSCAN</label><div class=\"sk-toggleable__content\"><pre>DBSCAN(eps=90, min_samples=3)</pre></div></div></div></div></div>"
      ],
      "text/plain": [
       "DBSCAN(eps=90, min_samples=3)"
      ]
     },
     "execution_count": 90,
     "metadata": {},
     "output_type": "execute_result"
    }
   ],
   "source": [
    "from sklearn.cluster import DBSCAN\n",
    "dbscan_pca = DBSCAN(eps= 90, min_samples= 3)\n",
    "dbscan_pca.fit(X_pca)\n",
    "dbscan_svd = DBSCAN(eps= 90, min_samples= 3)\n",
    "dbscan_svd.fit(X_svd)"
   ]
  },
  {
   "cell_type": "code",
   "execution_count": 91,
   "metadata": {},
   "outputs": [],
   "source": [
    "prediction_pca = dbscan_pca.labels_\n",
    "prediction_svd = dbscan_svd.labels_"
   ]
  },
  {
   "cell_type": "code",
   "execution_count": 110,
   "metadata": {},
   "outputs": [
    {
     "name": "stdout",
     "output_type": "stream",
     "text": [
      "PCA\n",
      "{'kidney': [0, 6], 'hippocampus': [1], 'cerebellum': [4, 6, 1], 'colon': [5], 'liver': [3, 6], 'endometrium': [0], 'placenta': [2]}\n",
      "SVD\n",
      "{'kidney': [0, 6], 'hippocampus': [1], 'cerebellum': [4, 6, 1], 'colon': [5], 'liver': [3, 6], 'endometrium': [0], 'placenta': [2]}\n"
     ]
    }
   ],
   "source": [
    "print(\"PCA\")\n",
    "printCluster(target, prediction_pca)\n",
    "print(\"SVD\")\n",
    "printCluster(target, prediction_svd)"
   ]
  },
  {
   "cell_type": "markdown",
   "metadata": {},
   "source": [
    "### Implementación"
   ]
  },
  {
   "cell_type": "code",
   "execution_count": 96,
   "metadata": {},
   "outputs": [],
   "source": [
    "def sequentialDBSCAN(database, radius, minPts):\n",
    "    undefined = -1\n",
    "    noise = -2\n",
    "    label = [undefined for i in range(len(database))]\n",
    "    m,n = database.shape\n",
    "    c = 0\n",
    "    for i, point in enumerate(database):\n",
    "        if label[i] != undefined:\n",
    "            continue\n",
    "        tree = KDTree(database, metric='euclidean')\n",
    "        neighbours = tree.query_radius(point.reshape(-1, len(point)), r = radius)\n",
    "        N = len(neighbours[0])\n",
    "        if N < minPts:\n",
    "            label[i] = noise\n",
    "            continue\n",
    "        label[i] = c\n",
    "        s = np.array([database[z] for z in list(neighbours[0])])\n",
    "        k = neighbours[0]\n",
    "        s = np.delete(s, np.where(s == point)[0][0], axis = 0)\n",
    "        k = np.delete(k, np.where(k == i))\n",
    "        j = 0\n",
    "        cambios = False\n",
    "        while j < len(s):\n",
    "            e = s[j].reshape(-1, n)\n",
    "            idx = k[j]\n",
    "            j+=1\n",
    "            if label[idx] == noise:\n",
    "                label[idx] = c\n",
    "            if label[idx] != undefined:\n",
    "                continue\n",
    "            tree = KDTree(database, metric='euclidean')\n",
    "            neighbours = tree.query_radius(e, r = radius)\n",
    "            label[idx] = c\n",
    "            N = len(neighbours[0])\n",
    "            if N < minPts:\n",
    "                continue\n",
    "            for z in list(neighbours[0]):\n",
    "                if z not in k:\n",
    "                    k = np.append(k, z)\n",
    "                    s = np.append(s, np.array([database[z]]), axis= 0)\n",
    "            cambios = True\n",
    "        if cambios:\n",
    "            c+=1\n",
    "    return label"
   ]
  },
  {
   "cell_type": "code",
   "execution_count": 100,
   "metadata": {},
   "outputs": [],
   "source": [
    "dbscanLabel_pca = sequentialDBSCAN(X_pca, radius = 90, minPts = 3)\n",
    "dbscanLabel_svd = sequentialDBSCAN(X_svd, radius = 90, minPts = 3)"
   ]
  },
  {
   "cell_type": "code",
   "execution_count": 109,
   "metadata": {},
   "outputs": [
    {
     "name": "stdout",
     "output_type": "stream",
     "text": [
      "PCA\n",
      "{'kidney': [0], 'hippocampus': [1], 'cerebellum': [1, -2, 5], 'colon': [2], 'liver': [3, -2], 'endometrium': [4], 'placenta': [6]}\n",
      "SVD\n",
      "{'kidney': [0], 'hippocampus': [1], 'cerebellum': [1, -2, 5], 'colon': [2], 'liver': [3, -2], 'endometrium': [4], 'placenta': [6]}\n"
     ]
    }
   ],
   "source": [
    "print(\"PCA\")\n",
    "printCluster(target, dbscanLabel_pca)\n",
    "print(\"SVD\")\n",
    "printCluster(target, dbscanLabel_svd)"
   ]
  },
  {
   "cell_type": "markdown",
   "metadata": {},
   "source": [
    "# Agglomerative Hierarchical Clustering"
   ]
  },
  {
   "cell_type": "code",
   "execution_count": 103,
   "metadata": {},
   "outputs": [
    {
     "data": {
      "text/html": [
       "<style>#sk-container-id-13 {color: black;background-color: white;}#sk-container-id-13 pre{padding: 0;}#sk-container-id-13 div.sk-toggleable {background-color: white;}#sk-container-id-13 label.sk-toggleable__label {cursor: pointer;display: block;width: 100%;margin-bottom: 0;padding: 0.3em;box-sizing: border-box;text-align: center;}#sk-container-id-13 label.sk-toggleable__label-arrow:before {content: \"▸\";float: left;margin-right: 0.25em;color: #696969;}#sk-container-id-13 label.sk-toggleable__label-arrow:hover:before {color: black;}#sk-container-id-13 div.sk-estimator:hover label.sk-toggleable__label-arrow:before {color: black;}#sk-container-id-13 div.sk-toggleable__content {max-height: 0;max-width: 0;overflow: hidden;text-align: left;background-color: #f0f8ff;}#sk-container-id-13 div.sk-toggleable__content pre {margin: 0.2em;color: black;border-radius: 0.25em;background-color: #f0f8ff;}#sk-container-id-13 input.sk-toggleable__control:checked~div.sk-toggleable__content {max-height: 200px;max-width: 100%;overflow: auto;}#sk-container-id-13 input.sk-toggleable__control:checked~label.sk-toggleable__label-arrow:before {content: \"▾\";}#sk-container-id-13 div.sk-estimator input.sk-toggleable__control:checked~label.sk-toggleable__label {background-color: #d4ebff;}#sk-container-id-13 div.sk-label input.sk-toggleable__control:checked~label.sk-toggleable__label {background-color: #d4ebff;}#sk-container-id-13 input.sk-hidden--visually {border: 0;clip: rect(1px 1px 1px 1px);clip: rect(1px, 1px, 1px, 1px);height: 1px;margin: -1px;overflow: hidden;padding: 0;position: absolute;width: 1px;}#sk-container-id-13 div.sk-estimator {font-family: monospace;background-color: #f0f8ff;border: 1px dotted black;border-radius: 0.25em;box-sizing: border-box;margin-bottom: 0.5em;}#sk-container-id-13 div.sk-estimator:hover {background-color: #d4ebff;}#sk-container-id-13 div.sk-parallel-item::after {content: \"\";width: 100%;border-bottom: 1px solid gray;flex-grow: 1;}#sk-container-id-13 div.sk-label:hover label.sk-toggleable__label {background-color: #d4ebff;}#sk-container-id-13 div.sk-serial::before {content: \"\";position: absolute;border-left: 1px solid gray;box-sizing: border-box;top: 0;bottom: 0;left: 50%;z-index: 0;}#sk-container-id-13 div.sk-serial {display: flex;flex-direction: column;align-items: center;background-color: white;padding-right: 0.2em;padding-left: 0.2em;position: relative;}#sk-container-id-13 div.sk-item {position: relative;z-index: 1;}#sk-container-id-13 div.sk-parallel {display: flex;align-items: stretch;justify-content: center;background-color: white;position: relative;}#sk-container-id-13 div.sk-item::before, #sk-container-id-13 div.sk-parallel-item::before {content: \"\";position: absolute;border-left: 1px solid gray;box-sizing: border-box;top: 0;bottom: 0;left: 50%;z-index: -1;}#sk-container-id-13 div.sk-parallel-item {display: flex;flex-direction: column;z-index: 1;position: relative;background-color: white;}#sk-container-id-13 div.sk-parallel-item:first-child::after {align-self: flex-end;width: 50%;}#sk-container-id-13 div.sk-parallel-item:last-child::after {align-self: flex-start;width: 50%;}#sk-container-id-13 div.sk-parallel-item:only-child::after {width: 0;}#sk-container-id-13 div.sk-dashed-wrapped {border: 1px dashed gray;margin: 0 0.4em 0.5em 0.4em;box-sizing: border-box;padding-bottom: 0.4em;background-color: white;}#sk-container-id-13 div.sk-label label {font-family: monospace;font-weight: bold;display: inline-block;line-height: 1.2em;}#sk-container-id-13 div.sk-label-container {text-align: center;}#sk-container-id-13 div.sk-container {/* jupyter's `normalize.less` sets `[hidden] { display: none; }` but bootstrap.min.css set `[hidden] { display: none !important; }` so we also need the `!important` here to be able to override the default hidden behavior on the sphinx rendered scikit-learn.org. See: https://github.com/scikit-learn/scikit-learn/issues/21755 */display: inline-block !important;position: relative;}#sk-container-id-13 div.sk-text-repr-fallback {display: none;}</style><div id=\"sk-container-id-13\" class=\"sk-top-container\"><div class=\"sk-text-repr-fallback\"><pre>AgglomerativeClustering(n_clusters=7)</pre><b>In a Jupyter environment, please rerun this cell to show the HTML representation or trust the notebook. <br />On GitHub, the HTML representation is unable to render, please try loading this page with nbviewer.org.</b></div><div class=\"sk-container\" hidden><div class=\"sk-item\"><div class=\"sk-estimator sk-toggleable\"><input class=\"sk-toggleable__control sk-hidden--visually\" id=\"sk-estimator-id-13\" type=\"checkbox\" checked><label for=\"sk-estimator-id-13\" class=\"sk-toggleable__label sk-toggleable__label-arrow\">AgglomerativeClustering</label><div class=\"sk-toggleable__content\"><pre>AgglomerativeClustering(n_clusters=7)</pre></div></div></div></div></div>"
      ],
      "text/plain": [
       "AgglomerativeClustering(n_clusters=7)"
      ]
     },
     "execution_count": 103,
     "metadata": {},
     "output_type": "execute_result"
    }
   ],
   "source": [
    "from sklearn.cluster import AgglomerativeClustering\n",
    "from sklearn.metrics import silhouette_score, homogeneity_score\n",
    "\n",
    "cluster_pca = AgglomerativeClustering(n_clusters=7)\n",
    "cluster_pca.fit(X_pca)\n",
    "cluster_svd = AgglomerativeClustering(n_clusters=7)\n",
    "cluster_svd.fit(X_svd)"
   ]
  },
  {
   "cell_type": "code",
   "execution_count": 105,
   "metadata": {},
   "outputs": [],
   "source": [
    "prediction_pca = cluster_pca.fit_predict(X_pca)\n",
    "prediction_svd = cluster_svd.fit_predict(X_svd)"
   ]
  },
  {
   "cell_type": "code",
   "execution_count": 108,
   "metadata": {},
   "outputs": [
    {
     "name": "stdout",
     "output_type": "stream",
     "text": [
      "PCA\n",
      "{'kidney': [0, 6], 'hippocampus': [1], 'cerebellum': [4, 6, 1], 'colon': [5], 'liver': [3, 6], 'endometrium': [0], 'placenta': [2]}\n",
      "SVD\n",
      "{'kidney': [0, 6], 'hippocampus': [1], 'cerebellum': [4, 6, 1], 'colon': [5], 'liver': [3, 6], 'endometrium': [0], 'placenta': [2]}\n"
     ]
    }
   ],
   "source": [
    "print(\"PCA\")\n",
    "printCluster(target, prediction_pca)\n",
    "print(\"SVD\")\n",
    "printCluster(target, prediction_svd)"
   ]
  },
  {
   "cell_type": "code",
   "execution_count": 107,
   "metadata": {},
   "outputs": [
    {
     "name": "stdout",
     "output_type": "stream",
     "text": [
      "Silhouette Score(n = 7): 0.3068555019835353\n"
     ]
    }
   ],
   "source": [
    "print(f'Silhouette Score(n = 7): {silhouette_score(X_pca, prediction)}')"
   ]
  }
 ],
 "metadata": {
  "kernelspec": {
   "display_name": "Python 3.10.8 64-bit (microsoft store)",
   "language": "python",
   "name": "python3"
  },
  "language_info": {
   "codemirror_mode": {
    "name": "ipython",
    "version": 3
   },
   "file_extension": ".py",
   "mimetype": "text/x-python",
   "name": "python",
   "nbconvert_exporter": "python",
   "pygments_lexer": "ipython3",
   "version": "3.10.8"
  },
  "orig_nbformat": 4,
  "vscode": {
   "interpreter": {
    "hash": "b1fc82697690d5394813d7b32ae5c877233d2ec6558daccf0379c2991af558ac"
   }
  }
 },
 "nbformat": 4,
 "nbformat_minor": 2
}

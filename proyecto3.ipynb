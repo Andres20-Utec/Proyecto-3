{
 "cells": [
  {
   "cell_type": "code",
   "execution_count": 1,
   "metadata": {},
   "outputs": [],
   "source": [
    "import pandas as pd\n",
    "import numpy as np\n"
   ]
  },
  {
   "cell_type": "code",
   "execution_count": 4,
   "metadata": {},
   "outputs": [
    {
     "data": {
      "text/html": [
       "<div>\n",
       "<style scoped>\n",
       "    .dataframe tbody tr th:only-of-type {\n",
       "        vertical-align: middle;\n",
       "    }\n",
       "\n",
       "    .dataframe tbody tr th {\n",
       "        vertical-align: top;\n",
       "    }\n",
       "\n",
       "    .dataframe thead th {\n",
       "        text-align: right;\n",
       "    }\n",
       "</style>\n",
       "<table border=\"1\" class=\"dataframe\">\n",
       "  <thead>\n",
       "    <tr style=\"text-align: right;\">\n",
       "      <th></th>\n",
       "      <th>Unnamed: 0</th>\n",
       "      <th>GSM11805.CEL.gz</th>\n",
       "      <th>GSM11814.CEL.gz</th>\n",
       "      <th>GSM11823.CEL.gz</th>\n",
       "      <th>GSM11830.CEL.gz</th>\n",
       "      <th>GSM12067.CEL.gz</th>\n",
       "      <th>GSM12075.CEL.gz</th>\n",
       "      <th>GSM12079.CEL.gz</th>\n",
       "      <th>GSM12098.CEL.gz</th>\n",
       "      <th>GSM12105.CEL.gz</th>\n",
       "      <th>...</th>\n",
       "      <th>GSM323527.CEL.gz</th>\n",
       "      <th>GSM323565.CEL.gz</th>\n",
       "      <th>GSM323566.CEL.gz</th>\n",
       "      <th>GSM323567.CEL.gz</th>\n",
       "      <th>GSM246492.CEL.gz</th>\n",
       "      <th>GSM246493.CEL.gz</th>\n",
       "      <th>GSM246494.CEL.gz</th>\n",
       "      <th>GSM307639.CEL.gz</th>\n",
       "      <th>GSM307640.CEL.gz</th>\n",
       "      <th>GSM307641.CEL.gz</th>\n",
       "    </tr>\n",
       "  </thead>\n",
       "  <tbody>\n",
       "    <tr>\n",
       "      <th>0</th>\n",
       "      <td>1007_s_at</td>\n",
       "      <td>10.191267</td>\n",
       "      <td>10.509167</td>\n",
       "      <td>10.272027</td>\n",
       "      <td>10.252952</td>\n",
       "      <td>10.157605</td>\n",
       "      <td>9.966782</td>\n",
       "      <td>9.839348</td>\n",
       "      <td>9.945652</td>\n",
       "      <td>9.913031</td>\n",
       "      <td>...</td>\n",
       "      <td>11.797743</td>\n",
       "      <td>10.040886</td>\n",
       "      <td>11.285002</td>\n",
       "      <td>9.888693</td>\n",
       "      <td>9.661127</td>\n",
       "      <td>9.803686</td>\n",
       "      <td>10.509541</td>\n",
       "      <td>9.984502</td>\n",
       "      <td>9.937738</td>\n",
       "      <td>10.306781</td>\n",
       "    </tr>\n",
       "    <tr>\n",
       "      <th>1</th>\n",
       "      <td>1053_at</td>\n",
       "      <td>6.040463</td>\n",
       "      <td>6.696075</td>\n",
       "      <td>6.144663</td>\n",
       "      <td>6.575153</td>\n",
       "      <td>6.606701</td>\n",
       "      <td>6.060069</td>\n",
       "      <td>6.186596</td>\n",
       "      <td>5.927861</td>\n",
       "      <td>6.337478</td>\n",
       "      <td>...</td>\n",
       "      <td>6.157979</td>\n",
       "      <td>6.224848</td>\n",
       "      <td>6.170956</td>\n",
       "      <td>6.211522</td>\n",
       "      <td>6.270153</td>\n",
       "      <td>6.058488</td>\n",
       "      <td>6.345526</td>\n",
       "      <td>6.715984</td>\n",
       "      <td>6.836179</td>\n",
       "      <td>7.025547</td>\n",
       "    </tr>\n",
       "    <tr>\n",
       "      <th>2</th>\n",
       "      <td>117_at</td>\n",
       "      <td>7.447409</td>\n",
       "      <td>7.775354</td>\n",
       "      <td>7.696235</td>\n",
       "      <td>8.478135</td>\n",
       "      <td>8.116336</td>\n",
       "      <td>7.644452</td>\n",
       "      <td>8.009581</td>\n",
       "      <td>7.847192</td>\n",
       "      <td>7.983850</td>\n",
       "      <td>...</td>\n",
       "      <td>7.727192</td>\n",
       "      <td>7.573437</td>\n",
       "      <td>7.323547</td>\n",
       "      <td>7.228568</td>\n",
       "      <td>7.333568</td>\n",
       "      <td>7.486711</td>\n",
       "      <td>7.468406</td>\n",
       "      <td>7.120793</td>\n",
       "      <td>7.125811</td>\n",
       "      <td>7.407624</td>\n",
       "    </tr>\n",
       "    <tr>\n",
       "      <th>3</th>\n",
       "      <td>121_at</td>\n",
       "      <td>12.025042</td>\n",
       "      <td>12.007817</td>\n",
       "      <td>11.633279</td>\n",
       "      <td>11.075286</td>\n",
       "      <td>10.832528</td>\n",
       "      <td>11.705062</td>\n",
       "      <td>11.706145</td>\n",
       "      <td>11.750370</td>\n",
       "      <td>10.706184</td>\n",
       "      <td>...</td>\n",
       "      <td>10.443504</td>\n",
       "      <td>10.566722</td>\n",
       "      <td>10.250737</td>\n",
       "      <td>10.191332</td>\n",
       "      <td>9.703713</td>\n",
       "      <td>9.914632</td>\n",
       "      <td>9.909784</td>\n",
       "      <td>9.409933</td>\n",
       "      <td>9.587782</td>\n",
       "      <td>9.792904</td>\n",
       "    </tr>\n",
       "    <tr>\n",
       "      <th>4</th>\n",
       "      <td>1255_g_at</td>\n",
       "      <td>5.269269</td>\n",
       "      <td>5.180389</td>\n",
       "      <td>5.301714</td>\n",
       "      <td>5.372235</td>\n",
       "      <td>5.334905</td>\n",
       "      <td>5.253682</td>\n",
       "      <td>5.228794</td>\n",
       "      <td>5.155278</td>\n",
       "      <td>5.236442</td>\n",
       "      <td>...</td>\n",
       "      <td>5.263736</td>\n",
       "      <td>5.048867</td>\n",
       "      <td>5.062005</td>\n",
       "      <td>5.186962</td>\n",
       "      <td>5.158631</td>\n",
       "      <td>5.312712</td>\n",
       "      <td>5.341193</td>\n",
       "      <td>4.896124</td>\n",
       "      <td>5.296695</td>\n",
       "      <td>5.206251</td>\n",
       "    </tr>\n",
       "  </tbody>\n",
       "</table>\n",
       "<p>5 rows × 190 columns</p>\n",
       "</div>"
      ],
      "text/plain": [
       "  Unnamed: 0  GSM11805.CEL.gz  GSM11814.CEL.gz  GSM11823.CEL.gz  \\\n",
       "0  1007_s_at        10.191267        10.509167        10.272027   \n",
       "1    1053_at         6.040463         6.696075         6.144663   \n",
       "2     117_at         7.447409         7.775354         7.696235   \n",
       "3     121_at        12.025042        12.007817        11.633279   \n",
       "4  1255_g_at         5.269269         5.180389         5.301714   \n",
       "\n",
       "   GSM11830.CEL.gz  GSM12067.CEL.gz  GSM12075.CEL.gz  GSM12079.CEL.gz  \\\n",
       "0        10.252952        10.157605         9.966782         9.839348   \n",
       "1         6.575153         6.606701         6.060069         6.186596   \n",
       "2         8.478135         8.116336         7.644452         8.009581   \n",
       "3        11.075286        10.832528        11.705062        11.706145   \n",
       "4         5.372235         5.334905         5.253682         5.228794   \n",
       "\n",
       "   GSM12098.CEL.gz  GSM12105.CEL.gz  ...  GSM323527.CEL.gz  GSM323565.CEL.gz  \\\n",
       "0         9.945652         9.913031  ...         11.797743         10.040886   \n",
       "1         5.927861         6.337478  ...          6.157979          6.224848   \n",
       "2         7.847192         7.983850  ...          7.727192          7.573437   \n",
       "3        11.750370        10.706184  ...         10.443504         10.566722   \n",
       "4         5.155278         5.236442  ...          5.263736          5.048867   \n",
       "\n",
       "   GSM323566.CEL.gz  GSM323567.CEL.gz  GSM246492.CEL.gz  GSM246493.CEL.gz  \\\n",
       "0         11.285002          9.888693          9.661127          9.803686   \n",
       "1          6.170956          6.211522          6.270153          6.058488   \n",
       "2          7.323547          7.228568          7.333568          7.486711   \n",
       "3         10.250737         10.191332          9.703713          9.914632   \n",
       "4          5.062005          5.186962          5.158631          5.312712   \n",
       "\n",
       "   GSM246494.CEL.gz  GSM307639.CEL.gz  GSM307640.CEL.gz  GSM307641.CEL.gz  \n",
       "0         10.509541          9.984502          9.937738         10.306781  \n",
       "1          6.345526          6.715984          6.836179          7.025547  \n",
       "2          7.468406          7.120793          7.125811          7.407624  \n",
       "3          9.909784          9.409933          9.587782          9.792904  \n",
       "4          5.341193          4.896124          5.296695          5.206251  \n",
       "\n",
       "[5 rows x 190 columns]"
      ]
     },
     "execution_count": 4,
     "metadata": {},
     "output_type": "execute_result"
    }
   ],
   "source": [
    "data = pd.read_csv(\"dataset/dataset_tissue.txt\", sep=\",\")\n",
    "data.head()"
   ]
  },
  {
   "cell_type": "code",
   "execution_count": 5,
   "metadata": {},
   "outputs": [
    {
     "data": {
      "text/plain": [
       "(22215, 190)"
      ]
     },
     "execution_count": 5,
     "metadata": {},
     "output_type": "execute_result"
    }
   ],
   "source": [
    "data.shape"
   ]
  },
  {
   "cell_type": "code",
   "execution_count": 7,
   "metadata": {},
   "outputs": [
    {
     "data": {
      "text/plain": [
       "'1007_s_at'"
      ]
     },
     "execution_count": 7,
     "metadata": {},
     "output_type": "execute_result"
    }
   ],
   "source": [
    "header = data.columns\n",
    "nombre = data.iloc[:, 0]\n"
   ]
  },
  {
   "cell_type": "markdown",
   "metadata": {},
   "source": [
    "# GMM"
   ]
  },
  {
   "cell_type": "code",
   "execution_count": null,
   "metadata": {},
   "outputs": [],
   "source": []
  },
  {
   "cell_type": "markdown",
   "metadata": {},
   "source": [
    "# K-Means"
   ]
  },
  {
   "cell_type": "code",
   "execution_count": null,
   "metadata": {},
   "outputs": [],
   "source": []
  },
  {
   "cell_type": "markdown",
   "metadata": {},
   "source": [
    "# DBSCAN"
   ]
  },
  {
   "cell_type": "code",
   "execution_count": null,
   "metadata": {},
   "outputs": [],
   "source": []
  }
 ],
 "metadata": {
  "kernelspec": {
   "display_name": "Python 3.9.12 ('base')",
   "language": "python",
   "name": "python3"
  },
  "language_info": {
   "codemirror_mode": {
    "name": "ipython",
    "version": 3
   },
   "file_extension": ".py",
   "mimetype": "text/x-python",
   "name": "python",
   "nbconvert_exporter": "python",
   "pygments_lexer": "ipython3",
   "version": "3.9.12"
  },
  "orig_nbformat": 4,
  "vscode": {
   "interpreter": {
    "hash": "cc8e5058f68ae25fd0b682edbcb4bd875f373e41e844c915b7302617da639678"
   }
  }
 },
 "nbformat": 4,
 "nbformat_minor": 2
}
